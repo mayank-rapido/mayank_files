{
 "cells": [
  {
   "cell_type": "code",
   "execution_count": 112,
   "metadata": {},
   "outputs": [],
   "source": [
    "import pandas as pd\n",
    "import numpy as np\n",
    "from datetime import datetime, timedelta, date\n",
    "import seaborn as sns\n",
    "import matplotlib.pyplot as plt\n",
    "%matplotlib inline\n",
    "from pyhive import presto\n",
    "from pymongo import MongoClient\n",
    "import warnings\n",
    "warnings.filterwarnings(\"ignore\")\n",
    "import my_func\n",
    "\n",
    "presto_conn = presto.connect(\n",
    "    host='bi-presto.serving.data.production.internal',\n",
    "    port=80,\n",
    "    protocol='http',\n",
    "    catalog='hive',\n",
    "    username='mayank.jha@rapido.bike',\n",
    "    # requests_kwargs=req_kw,\n",
    ")"
   ]
  },
  {
   "cell_type": "code",
   "execution_count": 113,
   "metadata": {},
   "outputs": [
    {
     "data": {
      "text/plain": [
       "'2022-05-09'"
      ]
     },
     "execution_count": 113,
     "metadata": {},
     "output_type": "execute_result"
    }
   ],
   "source": [
    "dt = date.today()\n",
    "dt = (pd.to_datetime(dt) - timedelta(dt.weekday())).strftime('%Y-%m-%d')\n",
    "dt"
   ]
  },
  {
   "cell_type": "code",
   "execution_count": 118,
   "metadata": {},
   "outputs": [
    {
     "name": "stdout",
     "output_type": "stream",
     "text": [
      "fetching subscribed captains for :  2022-05-09 to  2022-05-15\n",
      " fetched subscription data :  313\n"
     ]
    },
    {
     "data": {
      "text/html": [
       "<div>\n",
       "<style scoped>\n",
       "    .dataframe tbody tr th:only-of-type {\n",
       "        vertical-align: middle;\n",
       "    }\n",
       "\n",
       "    .dataframe tbody tr th {\n",
       "        vertical-align: top;\n",
       "    }\n",
       "\n",
       "    .dataframe thead th {\n",
       "        text-align: right;\n",
       "    }\n",
       "</style>\n",
       "<table border=\"1\" class=\"dataframe\">\n",
       "  <thead>\n",
       "    <tr style=\"text-align: right;\">\n",
       "      <th></th>\n",
       "      <th>captain_id</th>\n",
       "      <th>city</th>\n",
       "      <th>purchase_date</th>\n",
       "      <th>amount</th>\n",
       "      <th>start_time</th>\n",
       "      <th>end_time</th>\n",
       "      <th>week</th>\n",
       "    </tr>\n",
       "  </thead>\n",
       "  <tbody>\n",
       "    <tr>\n",
       "      <th>0</th>\n",
       "      <td>5c2a54074a267149c76226df</td>\n",
       "      <td>Kolkata</td>\n",
       "      <td>20220507</td>\n",
       "      <td>1</td>\n",
       "      <td>2022-05-09</td>\n",
       "      <td>2022-05-15</td>\n",
       "      <td>2022-19</td>\n",
       "    </tr>\n",
       "    <tr>\n",
       "      <th>1</th>\n",
       "      <td>5f4487dc7f36b68c8a2a36a0</td>\n",
       "      <td>Delhi</td>\n",
       "      <td>20220508</td>\n",
       "      <td>59</td>\n",
       "      <td>2022-05-09</td>\n",
       "      <td>2022-05-15</td>\n",
       "      <td>2022-19</td>\n",
       "    </tr>\n",
       "    <tr>\n",
       "      <th>2</th>\n",
       "      <td>5d6fe5526012fb46f2f3e55b</td>\n",
       "      <td>Kolkata</td>\n",
       "      <td>20220508</td>\n",
       "      <td>100</td>\n",
       "      <td>2022-05-09</td>\n",
       "      <td>2022-05-15</td>\n",
       "      <td>2022-19</td>\n",
       "    </tr>\n",
       "    <tr>\n",
       "      <th>3</th>\n",
       "      <td>5d3aa12c2f470b5bbc1fa9f4</td>\n",
       "      <td>Kolkata</td>\n",
       "      <td>20220508</td>\n",
       "      <td>1</td>\n",
       "      <td>2022-05-09</td>\n",
       "      <td>2022-05-15</td>\n",
       "      <td>2022-19</td>\n",
       "    </tr>\n",
       "    <tr>\n",
       "      <th>4</th>\n",
       "      <td>5d48382c55fbf50d45e49276</td>\n",
       "      <td>Kolkata</td>\n",
       "      <td>20220508</td>\n",
       "      <td>1</td>\n",
       "      <td>2022-05-09</td>\n",
       "      <td>2022-05-15</td>\n",
       "      <td>2022-19</td>\n",
       "    </tr>\n",
       "  </tbody>\n",
       "</table>\n",
       "</div>"
      ],
      "text/plain": [
       "                 captain_id     city purchase_date amount  start_time  \\\n",
       "0  5c2a54074a267149c76226df  Kolkata      20220507      1  2022-05-09   \n",
       "1  5f4487dc7f36b68c8a2a36a0    Delhi      20220508     59  2022-05-09   \n",
       "2  5d6fe5526012fb46f2f3e55b  Kolkata      20220508    100  2022-05-09   \n",
       "3  5d3aa12c2f470b5bbc1fa9f4  Kolkata      20220508      1  2022-05-09   \n",
       "4  5d48382c55fbf50d45e49276  Kolkata      20220508      1  2022-05-09   \n",
       "\n",
       "     end_time     week  \n",
       "0  2022-05-15  2022-19  \n",
       "1  2022-05-15  2022-19  \n",
       "2  2022-05-15  2022-19  \n",
       "3  2022-05-15  2022-19  \n",
       "4  2022-05-15  2022-19  "
      ]
     },
     "execution_count": 118,
     "metadata": {},
     "output_type": "execute_result"
    }
   ],
   "source": [
    "# Fetch Subscription Data\n",
    "\n",
    "def get_subscribed_captains(start_date, end_date):\n",
    "    print(\"fetching subscribed captains for : \", start_date, 'to ',end_date)\n",
    "    orders_query = \"\"\"   select s.userId as captain_id,\n",
    "                                c.displayname as city,\n",
    "                                s.yyyymmdd as purchase_date,\n",
    "                                s.amount,\n",
    "                                date_format(date_add('day', 1, cast(from_unixtime(cast(s.startTime as bigint)) as date)),'%Y-%m-%d') as start_time,\n",
    "                                date_format(from_unixtime(cast(s.endTime as bigint)),'%Y-%m-%d') as end_time\n",
    "                            from raw.kafka_captain_subscriptions_v1_immutable s\n",
    "                                left join legacy.cities c\n",
    "                                    on s.city = c._id\n",
    "                            where date_format(date_add('day', 1, cast(from_unixtime(cast(s.startTime as bigint)) as date)),'%Y-%m-%d') between '{sd}' and '{ed}'\n",
    "               \"\"\".format(sd = start_date, ed = end_date)\n",
    "\n",
    "    tmp = pd.read_sql(orders_query, presto_conn)\n",
    "    print(\" fetched subscription data : \", len(tmp))\n",
    "\n",
    "    return tmp\n",
    "\n",
    "subscribed_captains = get_subscribed_captains(dt, (pd.to_datetime(dt) + timedelta(6)).strftime('%Y-%m-%d'))\n",
    "subscribed_captains['week'] = pd.to_datetime(dt).strftime('%Y-%V')\n",
    "\n",
    "subscribed_captains.head()"
   ]
  },
  {
   "cell_type": "code",
   "execution_count": 119,
   "metadata": {},
   "outputs": [
    {
     "data": {
      "text/plain": [
       "('Kolkata', 'Delhi', 'Ahmedabad')"
      ]
     },
     "execution_count": 119,
     "metadata": {},
     "output_type": "execute_result"
    }
   ],
   "source": [
    "city = tuple(subscribed_captains.city.unique())\n",
    "city"
   ]
  },
  {
   "cell_type": "code",
   "execution_count": 120,
   "metadata": {},
   "outputs": [
    {
     "name": "stdout",
     "output_type": "stream",
     "text": [
      "fetching poc for :  2022-05-08\n",
      " fetched poc data :  127160\n"
     ]
    },
    {
     "data": {
      "text/html": [
       "<div>\n",
       "<style scoped>\n",
       "    .dataframe tbody tr th:only-of-type {\n",
       "        vertical-align: middle;\n",
       "    }\n",
       "\n",
       "    .dataframe tbody tr th {\n",
       "        vertical-align: top;\n",
       "    }\n",
       "\n",
       "    .dataframe thead th {\n",
       "        text-align: right;\n",
       "    }\n",
       "</style>\n",
       "<table border=\"1\" class=\"dataframe\">\n",
       "  <thead>\n",
       "    <tr style=\"text-align: right;\">\n",
       "      <th></th>\n",
       "      <th>captain_id</th>\n",
       "      <th>recency</th>\n",
       "      <th>segment</th>\n",
       "    </tr>\n",
       "  </thead>\n",
       "  <tbody>\n",
       "    <tr>\n",
       "      <th>0</th>\n",
       "      <td>5c1cf751d9bacb2f6f9baeed</td>\n",
       "      <td>inactive</td>\n",
       "      <td>LP_Inter_HO</td>\n",
       "    </tr>\n",
       "    <tr>\n",
       "      <th>1</th>\n",
       "      <td>5c2cec5b4a267149c763c27c</td>\n",
       "      <td>churn</td>\n",
       "      <td>ZP</td>\n",
       "    </tr>\n",
       "    <tr>\n",
       "      <th>2</th>\n",
       "      <td>5c2f614944742d49fd47913b</td>\n",
       "      <td>active</td>\n",
       "      <td>LP_D_UHO</td>\n",
       "    </tr>\n",
       "    <tr>\n",
       "      <th>3</th>\n",
       "      <td>5c4ea94f9359a37c0dbc42ef</td>\n",
       "      <td>inactive</td>\n",
       "      <td>LP_Intra_LO</td>\n",
       "    </tr>\n",
       "    <tr>\n",
       "      <th>4</th>\n",
       "      <td>5c5d7f7af2edc7336752096c</td>\n",
       "      <td>churn</td>\n",
       "      <td>ZP</td>\n",
       "    </tr>\n",
       "  </tbody>\n",
       "</table>\n",
       "</div>"
      ],
      "text/plain": [
       "                 captain_id   recency      segment\n",
       "0  5c1cf751d9bacb2f6f9baeed  inactive  LP_Inter_HO\n",
       "1  5c2cec5b4a267149c763c27c     churn           ZP\n",
       "2  5c2f614944742d49fd47913b    active     LP_D_UHO\n",
       "3  5c4ea94f9359a37c0dbc42ef  inactive  LP_Intra_LO\n",
       "4  5c5d7f7af2edc7336752096c     churn           ZP"
      ]
     },
     "execution_count": 120,
     "metadata": {},
     "output_type": "execute_result"
    }
   ],
   "source": [
    "# Fetch POC Segments\n",
    "\n",
    "def get_poc(start_date, city):\n",
    "    print(\"fetching poc for : \", start_date)\n",
    "    orders_query = \"\"\"   select captain_id,\n",
    "                                coalesce(nullif(substr(recency_segment, 1, strpos(recency_segment, '_')-1),''),'churn') as recency,\n",
    "                                segment\n",
    "                            from \n",
    "                                datasets.captain_quality_segments_snapshot_immutable \n",
    "                            where yyyymmdd = '{sd}'\n",
    "                                and city_name in {ct}\n",
    "                                       \"\"\".format(sd = start_date.replace('-',''), ct = city)\n",
    "\n",
    "    tmp = pd.read_sql(orders_query, presto_conn)\n",
    "    print(\" fetched poc data : \", len(tmp))\n",
    "\n",
    "    return tmp\n",
    "\n",
    "\n",
    "poc_segment = get_poc((pd.to_datetime(dt) - timedelta(1)).strftime('%Y-%m-%d'), city)\n",
    "\n",
    "poc_segment.head()"
   ]
  },
  {
   "cell_type": "code",
   "execution_count": 132,
   "metadata": {},
   "outputs": [
    {
     "name": "stdout",
     "output_type": "stream",
     "text": [
      "fetching captains performance for :  2022-05-09 to  2022-05-15\n",
      " fetched captains performance data :  53162\n"
     ]
    },
    {
     "data": {
      "text/html": [
       "<div>\n",
       "<style scoped>\n",
       "    .dataframe tbody tr th:only-of-type {\n",
       "        vertical-align: middle;\n",
       "    }\n",
       "\n",
       "    .dataframe tbody tr th {\n",
       "        vertical-align: top;\n",
       "    }\n",
       "\n",
       "    .dataframe thead th {\n",
       "        text-align: right;\n",
       "    }\n",
       "</style>\n",
       "<table border=\"1\" class=\"dataframe\">\n",
       "  <thead>\n",
       "    <tr style=\"text-align: right;\">\n",
       "      <th></th>\n",
       "      <th>captain_id</th>\n",
       "      <th>city</th>\n",
       "      <th>active_days</th>\n",
       "      <th>orders</th>\n",
       "      <th>total_pings</th>\n",
       "      <th>accepted_pings</th>\n",
       "      <th>cancelled_pings</th>\n",
       "      <th>login_hours</th>\n",
       "      <th>order_earnings</th>\n",
       "      <th>ocara_customer_cancelled</th>\n",
       "      <th>ocara_rider_cancelled</th>\n",
       "      <th>cicc_pings</th>\n",
       "    </tr>\n",
       "  </thead>\n",
       "  <tbody>\n",
       "    <tr>\n",
       "      <th>0</th>\n",
       "      <td>601d7ee27143239930c910a6</td>\n",
       "      <td>Delhi</td>\n",
       "      <td>2</td>\n",
       "      <td>0</td>\n",
       "      <td>2</td>\n",
       "      <td>1</td>\n",
       "      <td>0</td>\n",
       "      <td>1.063056</td>\n",
       "      <td>0.0000</td>\n",
       "      <td>0</td>\n",
       "      <td>1</td>\n",
       "      <td>0</td>\n",
       "    </tr>\n",
       "    <tr>\n",
       "      <th>1</th>\n",
       "      <td>5d1778d493686945e70a799d</td>\n",
       "      <td>Delhi</td>\n",
       "      <td>3</td>\n",
       "      <td>26</td>\n",
       "      <td>116</td>\n",
       "      <td>33</td>\n",
       "      <td>31</td>\n",
       "      <td>16.645555</td>\n",
       "      <td>1116.9595</td>\n",
       "      <td>8</td>\n",
       "      <td>3</td>\n",
       "      <td>0</td>\n",
       "    </tr>\n",
       "    <tr>\n",
       "      <th>2</th>\n",
       "      <td>5e421f806bbfd46517dfaf15</td>\n",
       "      <td>Delhi</td>\n",
       "      <td>3</td>\n",
       "      <td>9</td>\n",
       "      <td>26</td>\n",
       "      <td>14</td>\n",
       "      <td>11</td>\n",
       "      <td>22.633611</td>\n",
       "      <td>446.9555</td>\n",
       "      <td>4</td>\n",
       "      <td>1</td>\n",
       "      <td>1</td>\n",
       "    </tr>\n",
       "    <tr>\n",
       "      <th>3</th>\n",
       "      <td>5f6d7fe54df9b4034f417d79</td>\n",
       "      <td>Delhi</td>\n",
       "      <td>2</td>\n",
       "      <td>0</td>\n",
       "      <td>5</td>\n",
       "      <td>2</td>\n",
       "      <td>0</td>\n",
       "      <td>1.286111</td>\n",
       "      <td>0.0000</td>\n",
       "      <td>1</td>\n",
       "      <td>0</td>\n",
       "      <td>0</td>\n",
       "    </tr>\n",
       "    <tr>\n",
       "      <th>4</th>\n",
       "      <td>5c5c148c03a62d32bb1de8a3</td>\n",
       "      <td>Kolkata</td>\n",
       "      <td>3</td>\n",
       "      <td>39</td>\n",
       "      <td>64</td>\n",
       "      <td>52</td>\n",
       "      <td>17</td>\n",
       "      <td>17.179167</td>\n",
       "      <td>1820.9680</td>\n",
       "      <td>11</td>\n",
       "      <td>1</td>\n",
       "      <td>6</td>\n",
       "    </tr>\n",
       "  </tbody>\n",
       "</table>\n",
       "</div>"
      ],
      "text/plain": [
       "                 captain_id     city  active_days  orders  total_pings  \\\n",
       "0  601d7ee27143239930c910a6    Delhi            2       0            2   \n",
       "1  5d1778d493686945e70a799d    Delhi            3      26          116   \n",
       "2  5e421f806bbfd46517dfaf15    Delhi            3       9           26   \n",
       "3  5f6d7fe54df9b4034f417d79    Delhi            2       0            5   \n",
       "4  5c5c148c03a62d32bb1de8a3  Kolkata            3      39           64   \n",
       "\n",
       "   accepted_pings  cancelled_pings  login_hours  order_earnings  \\\n",
       "0               1                0     1.063056          0.0000   \n",
       "1              33               31    16.645555       1116.9595   \n",
       "2              14               11    22.633611        446.9555   \n",
       "3               2                0     1.286111          0.0000   \n",
       "4              52               17    17.179167       1820.9680   \n",
       "\n",
       "   ocara_customer_cancelled  ocara_rider_cancelled  cicc_pings  \n",
       "0                         0                      1           0  \n",
       "1                         8                      3           0  \n",
       "2                         4                      1           1  \n",
       "3                         1                      0           0  \n",
       "4                        11                      1           6  "
      ]
     },
     "execution_count": 132,
     "metadata": {},
     "output_type": "execute_result"
    }
   ],
   "source": [
    "# Fetch Captains Performance\n",
    "\n",
    "def get_captains_performance(start_date, end_date, city):\n",
    "    print(\"fetching captains performance for : \", start_date, 'to ',end_date)\n",
    "    orders_query = \"\"\"   select captainid as captain_id,\n",
    "                            city,\n",
    "                            count(*) as active_days,\n",
    "                            sum(net_orders) as orders,\n",
    "                            sum(accepted_pings + riderbusy_pings + riderrejected_pings) as total_pings,\n",
    "                            sum(accepted_pings) as accepted_pings,\n",
    "                            sum(riderrejected_pings  + cicc_pings) as cancelled_pings,\n",
    "                            sum(total_login_hr) as login_hours,\n",
    "                            sum(order_earning) as order_earnings,\n",
    "                            sum(ocara_customer_cancelled) as ocara_customer_cancelled,\n",
    "                            sum(ocara_rider_cancelled) as ocara_rider_cancelled,\n",
    "                            sum(cicc_pings) as cicc_pings\n",
    "                            \n",
    "                        from datasets.captain_svo_daily_kpi\n",
    "                        where service_name = 'Link'\n",
    "                            and city in {ct}\n",
    "                            and yyyymmdd between '{sd}' and '{ed}'\n",
    "                        group by 1,2\n",
    "                                       \"\"\".format(sd = start_date.replace('-',''), ed = end_date.replace('-',''), ct = city)\n",
    "\n",
    "    tmp = pd.read_sql(orders_query, presto_conn)\n",
    "    print(\" fetched captains performance data : \", len(tmp))\n",
    "\n",
    "    return tmp\n",
    "\n",
    "\n",
    "captains_performance = get_captains_performance(dt, (pd.to_datetime(dt) + timedelta(6)).strftime('%Y-%m-%d'), city)\n",
    "\n",
    "captains_performance.head()"
   ]
  },
  {
   "cell_type": "code",
   "execution_count": 133,
   "metadata": {},
   "outputs": [],
   "source": [
    "captains_performance['apr'] = captains_performance['accepted_pings']/captains_performance['total_pings']\n",
    "captains_performance['dpr'] = captains_performance['orders']/captains_performance['total_pings']\n",
    "captains_performance['ccr'] = captains_performance['cancelled_pings']/captains_performance['total_pings']"
   ]
  },
  {
   "cell_type": "code",
   "execution_count": 134,
   "metadata": {},
   "outputs": [],
   "source": [
    "df_captains = captains_performance.merge(poc_segment, how = 'left', on = 'captain_id').merge(\n",
    "                                            subscribed_captains.drop('city', axis=1), how = 'left', on = 'captain_id')"
   ]
  },
  {
   "cell_type": "code",
   "execution_count": 135,
   "metadata": {},
   "outputs": [],
   "source": [
    "df_captains = df_captains[df_captains['orders']>0]"
   ]
  },
  {
   "cell_type": "code",
   "execution_count": 136,
   "metadata": {},
   "outputs": [],
   "source": [
    "df_captains['subscription_group'] = df_captains['amount'].apply(lambda x : 'non_subscribed' if pd.isna(x) else 'subscription_'+x)"
   ]
  },
  {
   "cell_type": "code",
   "execution_count": 137,
   "metadata": {},
   "outputs": [],
   "source": [
    "df_captains['segment'].fillna('HH', inplace=True)"
   ]
  },
  {
   "cell_type": "code",
   "execution_count": 138,
   "metadata": {},
   "outputs": [],
   "source": [
    "df_captains['start_time'].fillna(dt, inplace=True)\n",
    "df_captains['end_time'].fillna((pd.to_datetime(dt) + timedelta(6)).strftime('%Y-%m-%d'), inplace=True)"
   ]
  },
  {
   "cell_type": "code",
   "execution_count": 143,
   "metadata": {},
   "outputs": [],
   "source": [
    "df_captains.pivot_table(index = ['city','subscription_group','segment','start_time','end_time','week'], \n",
    "                        values = ['active_days','total_pings','accepted_pings','cancelled_pings','orders','ocara_customer_cancelled','ocara_rider_cancelled','cicc_pings','login_hours','order_earnings','apr','dpr','ccr'],\n",
    "                       aggfunc = 'mean').reset_index().to_csv('x.csv', index=False)"
   ]
  },
  {
   "cell_type": "code",
   "execution_count": null,
   "metadata": {},
   "outputs": [],
   "source": []
  }
 ],
 "metadata": {
  "kernelspec": {
   "display_name": "Python 3",
   "language": "python",
   "name": "python3"
  },
  "language_info": {
   "codemirror_mode": {
    "name": "ipython",
    "version": 3
   },
   "file_extension": ".py",
   "mimetype": "text/x-python",
   "name": "python",
   "nbconvert_exporter": "python",
   "pygments_lexer": "ipython3",
   "version": "3.8.4"
  }
 },
 "nbformat": 4,
 "nbformat_minor": 4
}
