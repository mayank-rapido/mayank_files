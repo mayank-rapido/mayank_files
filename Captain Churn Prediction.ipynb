{
 "cells": [
  {
   "cell_type": "code",
   "execution_count": 1,
   "metadata": {},
   "outputs": [],
   "source": [
    "import pandas as pd\n",
    "import numpy as np\n",
    "from datetime import datetime, timedelta\n",
    "import seaborn as sns\n",
    "import matplotlib.pyplot as plt\n",
    "%matplotlib inline\n",
    "from pyhive import presto\n",
    "from pymongo import MongoClient\n",
    "import warnings\n",
    "warnings.filterwarnings(\"ignore\")\n",
    "import my_func\n",
    "\n",
    "presto_conn = presto.connect(\n",
    "    host='bi-presto.serving.data.production.internal',\n",
    "    port=80,\n",
    "    protocol='http',\n",
    "    catalog='hive',\n",
    "    username='mayank.jha@rapido.bike',\n",
    "    # requests_kwargs=req_kw,\n",
    ")"
   ]
  },
  {
   "cell_type": "code",
   "execution_count": 24,
   "metadata": {},
   "outputs": [],
   "source": [
    "start_date = '2022-02-07'\n",
    "end_date = '2022-02-13'\n",
    "city = 'Hyderabad'"
   ]
  },
  {
   "cell_type": "code",
   "execution_count": 25,
   "metadata": {},
   "outputs": [
    {
     "name": "stdout",
     "output_type": "stream",
     "text": [
      "fetching activated captains data for :  2022-02-07  to :  2022-02-13\n",
      " fetched LTR & activation date  3416\n",
      "(11954, 8)\n"
     ]
    }
   ],
   "source": [
    "# LTR and Activation Date\n",
    "\n",
    "def get_ltr(start_date, end_date, city):\n",
    "    print(\"fetching activated captains data for : \", start_date, \" to : \", end_date)\n",
    "    orders_query = \"\"\"   select captainId as captain_id,\n",
    "                                registrationdate, \n",
    "                                date(activationdate) as activationdate,\n",
    "                                lastridedate,\n",
    "                                lifetimerides as ltr,\n",
    "                                preferredtimebucket,\n",
    "                                case when weekdaycaptain = true then 'weekday'\n",
    "                                     when weekendcaptain = true then 'weekend'\n",
    "                                     else 'undecided' end as prefferedday\n",
    "                            from datasets.captain_single_view \n",
    "                            where date(activationdate) between date('{sd}') and date('{ed}')\n",
    "                                and registeredcity = '{ct}'\n",
    "           \n",
    "               \"\"\".format(sd=start_date, ed= end_date, ct = city)\n",
    "    \n",
    "    tmp = pd.read_sql(orders_query, presto_conn)\n",
    "    print(' fetched LTR & activation date ', len(tmp))\n",
    "\n",
    "    return tmp\n",
    "\n",
    "#df_ltr = pd.DataFrame()\n",
    "\n",
    "date_list = [pd.to_datetime(start_date) + timedelta(days=x) for x in range((pd.to_datetime(end_date)-pd.to_datetime(start_date)).days + 1)\n",
    "        if (pd.to_datetime(start_date) + timedelta(days=x)).weekday() == 0]\n",
    "date_list = [x.strftime('%Y-%m-%d') for x in date_list]\n",
    "\n",
    "for day in date_list:\n",
    "    ltr = get_ltr(day, (pd.to_datetime(day) + timedelta(6)).strftime('%Y-%m-%d'), city.lower())\n",
    "    ltr['week'] = pd.to_datetime(day).strftime('%V')\n",
    "    ltr['week'] = ltr['week'].apply(pd.to_numeric)\n",
    "    df_ltr = pd.concat([df_ltr, ltr])\n",
    "\n",
    "print(df_ltr.shape)"
   ]
  },
  {
   "cell_type": "code",
   "execution_count": 387,
   "metadata": {},
   "outputs": [],
   "source": [
    "start_date = '2022-03-07'\n",
    "end_date = '2022-03-13'\n",
    "city = 'Hyderabad'"
   ]
  },
  {
   "cell_type": "code",
   "execution_count": 386,
   "metadata": {},
   "outputs": [
    {
     "data": {
      "text/plain": [
       "'10'"
      ]
     },
     "execution_count": 386,
     "metadata": {},
     "output_type": "execute_result"
    }
   ],
   "source": [
    "pd.to_datetime('2022-03-07').strftime('%V')"
   ]
  },
  {
   "cell_type": "code",
   "execution_count": 388,
   "metadata": {},
   "outputs": [
    {
     "name": "stdout",
     "output_type": "stream",
     "text": [
      "fetching rides data for :  2022-03-07  to :  2022-03-13\n",
      " fetched rides for captains 27084\n"
     ]
    },
    {
     "data": {
      "text/html": [
       "<div>\n",
       "<style scoped>\n",
       "    .dataframe tbody tr th:only-of-type {\n",
       "        vertical-align: middle;\n",
       "    }\n",
       "\n",
       "    .dataframe tbody tr th {\n",
       "        vertical-align: top;\n",
       "    }\n",
       "\n",
       "    .dataframe thead th {\n",
       "        text-align: right;\n",
       "    }\n",
       "</style>\n",
       "<table border=\"1\" class=\"dataframe\">\n",
       "  <thead>\n",
       "    <tr style=\"text-align: right;\">\n",
       "      <th></th>\n",
       "      <th>captain_id</th>\n",
       "      <th>active_days</th>\n",
       "      <th>link_orders</th>\n",
       "      <th>delivery_orders</th>\n",
       "      <th>total_orders</th>\n",
       "      <th>customer_rating</th>\n",
       "      <th>ride_duration</th>\n",
       "      <th>ride_distance</th>\n",
       "      <th>non_cash_rides</th>\n",
       "      <th>surge_rides</th>\n",
       "      <th>week</th>\n",
       "    </tr>\n",
       "  </thead>\n",
       "  <tbody>\n",
       "    <tr>\n",
       "      <th>0</th>\n",
       "      <td>5d7af8036012fb46f2fd40e8</td>\n",
       "      <td>4</td>\n",
       "      <td>17</td>\n",
       "      <td>0</td>\n",
       "      <td>17</td>\n",
       "      <td>4.647059</td>\n",
       "      <td>199.122250</td>\n",
       "      <td>100.396</td>\n",
       "      <td>2</td>\n",
       "      <td>8</td>\n",
       "      <td>6</td>\n",
       "    </tr>\n",
       "    <tr>\n",
       "      <th>1</th>\n",
       "      <td>61fd17ca725c4c72c3ac681f</td>\n",
       "      <td>7</td>\n",
       "      <td>55</td>\n",
       "      <td>2</td>\n",
       "      <td>58</td>\n",
       "      <td>4.489362</td>\n",
       "      <td>1041.078067</td>\n",
       "      <td>318.714</td>\n",
       "      <td>10</td>\n",
       "      <td>9</td>\n",
       "      <td>6</td>\n",
       "    </tr>\n",
       "    <tr>\n",
       "      <th>2</th>\n",
       "      <td>6127467134b93d864131ecf3</td>\n",
       "      <td>7</td>\n",
       "      <td>37</td>\n",
       "      <td>0</td>\n",
       "      <td>37</td>\n",
       "      <td>4.500000</td>\n",
       "      <td>432.340067</td>\n",
       "      <td>185.306</td>\n",
       "      <td>3</td>\n",
       "      <td>2</td>\n",
       "      <td>6</td>\n",
       "    </tr>\n",
       "    <tr>\n",
       "      <th>3</th>\n",
       "      <td>5d974e0dc2153814dfc0f96d</td>\n",
       "      <td>5</td>\n",
       "      <td>23</td>\n",
       "      <td>0</td>\n",
       "      <td>23</td>\n",
       "      <td>4.454545</td>\n",
       "      <td>473.740733</td>\n",
       "      <td>159.352</td>\n",
       "      <td>1</td>\n",
       "      <td>6</td>\n",
       "      <td>6</td>\n",
       "    </tr>\n",
       "    <tr>\n",
       "      <th>4</th>\n",
       "      <td>5d809b39a24c96105e53bf14</td>\n",
       "      <td>2</td>\n",
       "      <td>11</td>\n",
       "      <td>0</td>\n",
       "      <td>11</td>\n",
       "      <td>4.363636</td>\n",
       "      <td>197.243533</td>\n",
       "      <td>71.657</td>\n",
       "      <td>0</td>\n",
       "      <td>4</td>\n",
       "      <td>6</td>\n",
       "    </tr>\n",
       "  </tbody>\n",
       "</table>\n",
       "</div>"
      ],
      "text/plain": [
       "                 captain_id  active_days  link_orders  delivery_orders  \\\n",
       "0  5d7af8036012fb46f2fd40e8            4           17                0   \n",
       "1  61fd17ca725c4c72c3ac681f            7           55                2   \n",
       "2  6127467134b93d864131ecf3            7           37                0   \n",
       "3  5d974e0dc2153814dfc0f96d            5           23                0   \n",
       "4  5d809b39a24c96105e53bf14            2           11                0   \n",
       "\n",
       "   total_orders  customer_rating  ride_duration  ride_distance  \\\n",
       "0            17         4.647059     199.122250        100.396   \n",
       "1            58         4.489362    1041.078067        318.714   \n",
       "2            37         4.500000     432.340067        185.306   \n",
       "3            23         4.454545     473.740733        159.352   \n",
       "4            11         4.363636     197.243533         71.657   \n",
       "\n",
       "   non_cash_rides  surge_rides  week  \n",
       "0               2            8     6  \n",
       "1              10            9     6  \n",
       "2               3            2     6  \n",
       "3               1            6     6  \n",
       "4               0            4     6  "
      ]
     },
     "execution_count": 388,
     "metadata": {},
     "output_type": "execute_result"
    }
   ],
   "source": [
    "# Rides\n",
    "\n",
    "def get_rides(start_date, end_date, city):\n",
    "    \n",
    "    print(\"fetching rides data for : \", start_date, \" to : \", end_date)\n",
    "    rides_query = \"\"\"SELECT captain_id,\n",
    "                            count(distinct order_date) as active_days,\n",
    "                            sum(case when service_obj_service_name = 'Link' then 1 else 0 end) as link_orders,\n",
    "                            sum(case when service_obj_service_name in ('Delivery', 'Zomato') then 1 else 0 end) as delivery_orders,\n",
    "                            count(*) as total_orders,\n",
    "                            avg(customer_feedback_rating) as customer_rating,\n",
    "                            sum(ride_time) as ride_duration,\n",
    "                            sum(distance_final_distance) as ride_distance,\n",
    "                            sum(case when payment_type <> 'cash' then 1 else 0 end) as non_cash_rides,\n",
    "                            sum(case when static_surge > 0 or surge > 0 then 1 else 0 end) as surge_rides\n",
    "                        from orders.order_logs_snapshot\n",
    "                        where order_date >= '{sd}'\n",
    "                            and order_date <= '{ed}'\n",
    "                            and order_status = 'dropped'\n",
    "                            and spd_fraud_flag != true\n",
    "                            and lower(service_obj_service_name) not like '%auto%'\n",
    "                            and lower(order_type) not like '%auto%'\n",
    "                            and service_obj_city_display_name in ('{ct}')\n",
    "                        group by 1 \"\"\".format(sd=start_date, ed= end_date, ct = city)\n",
    "    \n",
    "    #print(rides_query)\n",
    "    tmp = pd.read_sql(rides_query, presto_conn)\n",
    "    \n",
    "    print(\" fetched rides for captains\", len(tmp))\n",
    "\n",
    "    return tmp\n",
    "\n",
    "#df_rides = pd.DataFrame()\n",
    "\n",
    "date_list = [pd.to_datetime(start_date) + timedelta(days=x) for x in range((pd.to_datetime(end_date)-pd.to_datetime(start_date)).days + 1)\n",
    "        if (pd.to_datetime(start_date) + timedelta(days=x)).weekday() == 0]\n",
    "date_list = [x.strftime('%Y-%m-%d') for x in date_list]\n",
    "\n",
    "for day in date_list : \n",
    "    rides = get_rides(day, (pd.to_datetime(day) + timedelta(6)).strftime('%Y-%m-%d'), city)\n",
    "    rides['week'] = pd.to_datetime(day).strftime('%V')\n",
    "    rides['week'] = rides['week'].apply(pd.to_numeric)\n",
    "    df_rides = pd.concat([df_rides, rides])\n",
    "\n",
    "df_rides.head()"
   ]
  },
  {
   "cell_type": "code",
   "execution_count": 389,
   "metadata": {},
   "outputs": [
    {
     "name": "stdout",
     "output_type": "stream",
     "text": [
      "fetching Login hours for :  20220307  to  20220313\n",
      " fetched Login hours 70694\n"
     ]
    }
   ],
   "source": [
    "# Login hours\n",
    "\n",
    "def get_login_hours(start_date, end_date):\n",
    "    print(\"fetching Login hours for : \",start_date, \" to \", end_date)\n",
    "    lh_query = \"\"\"   select \n",
    "            userid as captain_id, \n",
    "            cast(sum(duration) as double)/cast((60*60*1000) as double) as login_hours,\n",
    "            sum(case when status = '2' then cast(duration as double) else 0 end)/cast((60*60*1000) as double) as idle_hours,\n",
    "            sum(case when quarter_hour >= '0600' and quarter_hour <= '1159' then duration else 0 end)/cast((60*60*1000) as double) as morning_duration,\n",
    "            sum(case when quarter_hour >= '1200' and quarter_hour <= '1659' then duration else 0 end)/cast((60*60*1000) as double) as afternoon_duration,\n",
    "            sum(case when quarter_hour >= '1700' and quarter_hour <= '2359' then duration else 0 end)/cast((60*60*1000) as double) as evening_duration\n",
    "        from hive.datasets.captain_login_hours\n",
    "        where yyyymmdd >= '{sd}' \n",
    "            and yyyymmdd <= '{ed}'\n",
    "            and status in ('2','3','6','7','8','10')\n",
    "            and userid in (select distinct captainid from datasets.captain_single_view where registeredcity = 'hyderabad' or lastridecity = 'Hyderabad')\n",
    "        group by 1\n",
    "               \"\"\".format(sd=start_date.replace('-',''), ed=end_date.replace('-',''))\n",
    "    \n",
    "    tmp = pd.read_sql(lh_query, presto_conn)\n",
    "    print(\" fetched Login hours\", len(tmp))\n",
    "\n",
    "    return tmp\n",
    "\n",
    "#df_login_hours = pd.DataFrame()\n",
    "\n",
    "date_list = [pd.to_datetime(start_date) + timedelta(days=x) for x in range((pd.to_datetime(end_date)-pd.to_datetime(start_date)).days + 1)\n",
    "        if (pd.to_datetime(start_date) + timedelta(days=x)).weekday() == 0]\n",
    "date_list = [x.strftime('%Y-%m-%d') for x in date_list]\n",
    "\n",
    "for day in date_list: \n",
    "    login_hours = get_login_hours(day.replace('-',''), (pd.to_datetime(day) + timedelta(6)).strftime('%Y-%m-%d').replace('-',''))\n",
    "    login_hours['week'] = pd.to_datetime(day).strftime('%V')\n",
    "    login_hours['week'] = login_hours['week'].apply(pd.to_numeric)\n",
    "    df_login_hours = pd.concat([df_login_hours, login_hours])"
   ]
  },
  {
   "cell_type": "code",
   "execution_count": null,
   "metadata": {},
   "outputs": [],
   "source": []
  },
  {
   "cell_type": "code",
   "execution_count": 390,
   "metadata": {},
   "outputs": [
    {
     "name": "stdout",
     "output_type": "stream",
     "text": [
      "fetching rides data for :  2022-03-07  to  2022-03-13\n",
      " fetched pings for captains 36954\n"
     ]
    }
   ],
   "source": [
    "# Pings\n",
    "\n",
    "def get_pings(start_date, end_date, city):\n",
    "    print(\"fetching rides data for : \", start_date, \" to \", end_date)\n",
    "    pings_query = \"\"\"select captain_id, \n",
    "        (sum(case when event_type='dropped' then cast(amount as double) else 0.0 end)) as total_order_earnings,\n",
    "        (sum(case when event_type in ('accepted') then 1 else 0 end)\n",
    "            + sum(case when event_type in ('rider_busy') then 1 else 0 end)\n",
    "            + sum(case when event_type in ('rider_reject') then 1 else 0 end)) as Total_Pings,\n",
    "        (count(distinct(case when event_type='dropped' then order_id end))+\n",
    "            (count(distinct(case when event_type='rider_busy' then order_id end)))+\n",
    "            (count(distinct(case when event_type='rider_reject' then order_id end)))+\n",
    "            (count(distinct(case when event_type='rider_cancelled' then order_id end)))+\n",
    "            (count(distinct(case when event_type='customer_cancelled' and cancel_reason in ('Asked to change payment mode','Asked to pay extra','Drop location denied','Asked to cancel and take offline ride','Taking longer than expected') then order_id end)))) as True_total_pings,\n",
    "        (count(distinct(case when event_type='rider_cancelled' then order_id end))+\n",
    "            (count(distinct(case when event_type='customer_cancelled' and cancel_reason in ('Asked to change payment mode','Asked to pay extra','Drop location denied','Asked to cancel and take offline ride','Taking longer than expected') then order_id end)))) as cancelled_pings,\n",
    "        (count(distinct(case when event_type='accepted' then order_id end))) as accepted_pings,\n",
    "        (count(distinct(case when event_type='dropped' then order_id end))) as dropped_orders\n",
    "\n",
    "    from orders.order_logs_immutable as od\n",
    "    where yyyymmdd between '{sd}' and '{ed}'\n",
    "        and service_obj_service_name not like '%Auto%'\n",
    "        and order_type not like '%auto%'\n",
    "        and service_obj_city_display_name in ('{ct}')\n",
    "    group by 1    \"\"\".format(sd=start_date.replace('-',''), ed=end_date.replace('-',''), ct = city)\n",
    "    \n",
    "    tmp = pd.read_sql(pings_query, presto_conn)\n",
    "    print(\" fetched pings for captains\", len(tmp))\n",
    "\n",
    "    return tmp\n",
    "\n",
    "\n",
    "#df_pings = pd.DataFrame()\n",
    "\n",
    "date_list = [pd.to_datetime(start_date) + timedelta(days=x) for x in range((pd.to_datetime(end_date)-pd.to_datetime(start_date)).days + 1)\n",
    "        if (pd.to_datetime(start_date) + timedelta(days=x)).weekday() == 0]\n",
    "date_list = [x.strftime('%Y-%m-%d') for x in date_list]\n",
    "\n",
    "for day in date_list: \n",
    "    pings = get_pings(day, (pd.to_datetime(day) + timedelta(6)).strftime('%Y-%m-%d'), city)\n",
    "    pings['week'] = pd.to_datetime(day).strftime('%V')\n",
    "    pings['week'] = pings['week'].apply(pd.to_numeric)\n",
    "    df_pings = pd.concat([df_pings, pings])"
   ]
  },
  {
   "cell_type": "code",
   "execution_count": 303,
   "metadata": {},
   "outputs": [],
   "source": [
    "start_date = '2022-02-28'\n",
    "end_date = '2022-04-17'\n",
    "city = 'Hyderabad'"
   ]
  },
  {
   "cell_type": "code",
   "execution_count": 304,
   "metadata": {},
   "outputs": [
    {
     "name": "stdout",
     "output_type": "stream",
     "text": [
      "fetching rides data for :  2022-02-28  to :  2022-03-06\n",
      " fetched rides for captains 25253\n",
      "fetching rides data for :  2022-03-07  to :  2022-03-13\n",
      " fetched rides for captains 27084\n",
      "fetching rides data for :  2022-03-14  to :  2022-03-20\n",
      " fetched rides for captains 27557\n",
      "fetching rides data for :  2022-03-21  to :  2022-03-27\n",
      " fetched rides for captains 28381\n",
      "fetching rides data for :  2022-03-28  to :  2022-04-03\n",
      " fetched rides for captains 25969\n",
      "fetching rides data for :  2022-04-04  to :  2022-04-10\n",
      " fetched rides for captains 26220\n",
      "fetching rides data for :  2022-04-11  to :  2022-04-17\n",
      " fetched rides for captains 26641\n"
     ]
    },
    {
     "ename": "TypeError",
     "evalue": "'tuple' object is not callable",
     "output_type": "error",
     "traceback": [
      "\u001b[0;31m---------------------------------------------------------------------------\u001b[0m",
      "\u001b[0;31mTypeError\u001b[0m                                 Traceback (most recent call last)",
      "\u001b[0;32m<ipython-input-304-3632bd41df1f>\u001b[0m in \u001b[0;36m<module>\u001b[0;34m\u001b[0m\n\u001b[1;32m     35\u001b[0m     \u001b[0mdf_lookout\u001b[0m \u001b[0;34m=\u001b[0m \u001b[0mpd\u001b[0m\u001b[0;34m.\u001b[0m\u001b[0mconcat\u001b[0m\u001b[0;34m(\u001b[0m\u001b[0;34m[\u001b[0m\u001b[0mdf_lookout\u001b[0m\u001b[0;34m,\u001b[0m \u001b[0mrides\u001b[0m\u001b[0;34m]\u001b[0m\u001b[0;34m)\u001b[0m\u001b[0;34m\u001b[0m\u001b[0;34m\u001b[0m\u001b[0m\n\u001b[1;32m     36\u001b[0m \u001b[0;34m\u001b[0m\u001b[0m\n\u001b[0;32m---> 37\u001b[0;31m \u001b[0mdf_lookout\u001b[0m\u001b[0;34m.\u001b[0m\u001b[0mshape\u001b[0m\u001b[0;34m(\u001b[0m\u001b[0;34m)\u001b[0m\u001b[0;34m\u001b[0m\u001b[0;34m\u001b[0m\u001b[0m\n\u001b[0m",
      "\u001b[0;31mTypeError\u001b[0m: 'tuple' object is not callable"
     ]
    }
   ],
   "source": [
    "# Rides\n",
    "\n",
    "def get_rides(start_date, end_date, city):\n",
    "    \n",
    "    print(\"fetching rides data for : \", start_date, \" to : \", end_date)\n",
    "    rides_query = \"\"\"SELECT captain_id,\n",
    "                            count(*) as lookout_orders\n",
    "                        from orders.order_logs_snapshot\n",
    "                        where order_date >= '{sd}'\n",
    "                            and order_date <= '{ed}'\n",
    "                            and order_status = 'dropped'\n",
    "                            and spd_fraud_flag != true\n",
    "                            and lower(service_obj_service_name) not like '%auto%'\n",
    "                            and lower(order_type) not like '%auto%'\n",
    "                            and service_obj_city_display_name in ('{ct}')\n",
    "                        group by 1 \"\"\".format(sd=start_date, ed= end_date, ct = city)\n",
    "    \n",
    "    #print(rides_query)\n",
    "    tmp = pd.read_sql(rides_query, presto_conn)\n",
    "    \n",
    "    print(\" fetched rides for captains\", len(tmp))\n",
    "\n",
    "    return tmp\n",
    "\n",
    "df_lookout = pd.DataFrame()\n",
    "\n",
    "date_list = [pd.to_datetime(start_date) + timedelta(days=x) for x in range((pd.to_datetime(end_date)-pd.to_datetime(start_date)).days + 1)\n",
    "        if (pd.to_datetime(start_date) + timedelta(days=x)).weekday() == 0]\n",
    "date_list = [x.strftime('%Y-%m-%d') for x in date_list]\n",
    "\n",
    "for day in date_list : \n",
    "    rides = get_rides(day, (pd.to_datetime(day) + timedelta(6)).strftime('%Y-%m-%d'), city)\n",
    "    rides['week'] = pd.to_datetime(day).strftime('%V')\n",
    "    rides['week'] = rides['week'].apply(pd.to_numeric)\n",
    "    df_lookout = pd.concat([df_lookout, rides])\n",
    "\n",
    "df_lookout.shape"
   ]
  },
  {
   "cell_type": "code",
   "execution_count": 26,
   "metadata": {},
   "outputs": [],
   "source": [
    "# df_ltr.to_csv('activated_captains_data_for_churn.csv', index=False)\n",
    "# df_rides.to_csv('rides_data_for_churn.csv', index=False)\n",
    "# df_login_hours.to_csv('login_hours_data_for_churn.csv', index=False)\n",
    "# df_pings.to_csv('pings_data_for_churn.csv', index=False)\n",
    "# df_lookout.to_csv('lookout_data_for_churn.csv', index=False)"
   ]
  },
  {
   "cell_type": "code",
   "execution_count": 2,
   "metadata": {},
   "outputs": [],
   "source": [
    "df_ltr = pd.read_csv('activated_captains_data_for_churn.csv')\n",
    "df_rides = pd.read_csv('rides_data_for_churn.csv')\n",
    "df_login_hours = pd.read_csv('login_hours_data_for_churn.csv')\n",
    "df_pings = pd.read_csv('pings_data_for_churn.csv')\n",
    "df_lookout = pd.read_csv('lookout_data_for_churn.csv')"
   ]
  },
  {
   "cell_type": "code",
   "execution_count": 78,
   "metadata": {},
   "outputs": [],
   "source": [
    "# Prepare train data set\n",
    "\n",
    "df_captains = df_ltr[df_ltr['week']==5].drop('week', axis=1).merge(df_rides[df_rides['week'].isin([6,7])], how = 'left', on = 'captain_id').merge(\n",
    "                                                                    df_login_hours[df_login_hours['week'].isin([6,7])], how = 'left', on = ['captain_id','week']).merge(\n",
    "                                                                    df_pings[df_pings['week'].isin([6,7])], how = 'left', on = ['captain_id','week'])\n",
    "\n",
    "df_test = df_ltr[df_ltr['week']==4].drop('week', axis=1).merge(df_rides[df_rides['week'].isin([5,6])], how = 'left', on = 'captain_id').merge(\n",
    "                                                                df_login_hours[df_login_hours['week'].isin([5,6])], how = 'left', on = ['captain_id','week']).merge(\n",
    "                                                                df_pings[df_pings['week'].isin([5,6])], how = 'left', on = ['captain_id','week'])\n",
    "\n",
    "df_test_2 = df_ltr[df_ltr['week']==6].drop('week', axis=1).merge(df_rides[df_rides['week'].isin([7,8])], how = 'left', on = 'captain_id').merge(\n",
    "                                                                df_login_hours[df_login_hours['week'].isin([7,8])], how = 'left', on = ['captain_id','week']).merge(\n",
    "                                                                df_pings[df_pings['week'].isin([7,8])], how = 'left', on = ['captain_id','week'])"
   ]
  },
  {
   "cell_type": "code",
   "execution_count": 79,
   "metadata": {},
   "outputs": [],
   "source": [
    "pd.set_option('display.max_columns', None)"
   ]
  },
  {
   "cell_type": "code",
   "execution_count": 80,
   "metadata": {},
   "outputs": [],
   "source": [
    "df_tmp = df_captains.groupby('captain_id').agg(['sum','mean']).reset_index()\n",
    "df_tmp.columns = df_tmp.columns.map('_'.join).to_series()\n",
    "df_tmp.rename(columns={'captain_id_':'captain_id'}, inplace=True)\n",
    "df_tmp\n",
    "\n",
    "df_test = df_test.groupby('captain_id').agg(['sum','mean']).reset_index()\n",
    "df_test.columns = df_test.columns.map('_'.join).to_series()\n",
    "df_test.rename(columns={'captain_id_':'captain_id'}, inplace=True)\n",
    "\n",
    "df_test_2 = df_test_2.groupby('captain_id').agg(['sum','mean']).reset_index()\n",
    "df_test_2.columns = df_test_2.columns.map('_'.join).to_series()\n",
    "df_test_2.rename(columns={'captain_id_':'captain_id'}, inplace=True)"
   ]
  },
  {
   "cell_type": "code",
   "execution_count": 81,
   "metadata": {},
   "outputs": [],
   "source": [
    "df_tmp['apr'] = df_tmp['accepted_pings_sum']/df_tmp['Total_Pings_sum']\n",
    "df_tmp['ccr'] = df_tmp['cancelled_pings_sum']/(df_tmp['cancelled_pings_sum'] + df_tmp['dropped_orders_sum'])\n",
    "df_tmp['rph'] = df_tmp['total_orders_sum']/df_tmp['ride_duration_sum']\n",
    "df_tmp['dpr'] = df_tmp['ride_distance_sum']/df_tmp['total_orders_sum']\n",
    "df_tmp['percent_non_cash_rides'] = df_tmp['non_cash_rides_sum']/df_tmp['total_orders_sum']\n",
    "df_tmp['percent_surge_rides'] = df_tmp['surge_rides_sum']/df_tmp['total_orders_sum']\n",
    "df_tmp['percent_idle_time'] = df_tmp['idle_hours_sum']/df_tmp['login_hours_sum']\n",
    "df_tmp['percent_non_link_orders'] = (df_tmp['total_orders_sum'] - df_tmp['link_orders_sum'])/df_tmp['total_orders_sum']\n",
    "\n",
    "\n",
    "df_test['apr'] = df_test['accepted_pings_sum']/df_test['Total_Pings_sum']\n",
    "df_test['ccr'] = df_test['cancelled_pings_sum']/(df_test['cancelled_pings_sum'] + df_test['dropped_orders_sum'])\n",
    "df_test['rph'] = df_test['total_orders_sum']/df_test['ride_duration_sum']\n",
    "df_test['dpr'] = df_test['ride_distance_sum']/df_test['total_orders_sum']\n",
    "df_test['percent_non_cash_rides'] = df_test['non_cash_rides_sum']/df_test['total_orders_sum']\n",
    "df_test['percent_surge_rides'] = df_test['surge_rides_sum']/df_test['total_orders_sum']\n",
    "df_test['percent_idle_time'] = df_test['idle_hours_sum']/df_test['login_hours_sum']\n",
    "df_test['percent_non_link_orders'] = (df_test['total_orders_sum'] - df_test['link_orders_sum'])/df_test['total_orders_sum']\n",
    "\n",
    "df_test_2['apr'] = df_test_2['accepted_pings_sum']/df_test_2['Total_Pings_sum']\n",
    "df_test_2['ccr'] = df_test_2['cancelled_pings_sum']/(df_test_2['cancelled_pings_sum'] + df_test_2['dropped_orders_sum'])\n",
    "df_test_2['rph'] = df_test_2['total_orders_sum']/df_test_2['ride_duration_sum']\n",
    "df_test_2['dpr'] = df_test_2['ride_distance_sum']/df_test_2['total_orders_sum']\n",
    "df_test_2['percent_non_cash_rides'] = df_test_2['non_cash_rides_sum']/df_test_2['total_orders_sum']\n",
    "df_test_2['percent_surge_rides'] = df_test_2['surge_rides_sum']/df_test_2['total_orders_sum']\n",
    "df_test_2['percent_idle_time'] = df_test_2['idle_hours_sum']/df_test_2['login_hours_sum']\n",
    "df_test_2['percent_non_link_orders'] = (df_test_2['total_orders_sum'] - df_test_2['link_orders_sum'])/df_test_2['total_orders_sum']"
   ]
  },
  {
   "cell_type": "code",
   "execution_count": 82,
   "metadata": {},
   "outputs": [],
   "source": [
    "df_final = df_tmp[['captain_id','active_days_sum','total_orders_sum','customer_rating_mean','login_hours_sum',\n",
    "                   'Total_Pings_sum','dropped_orders_sum','apr','ccr','rph','dpr','percent_non_cash_rides','percent_surge_rides','percent_idle_time','percent_non_link_orders']]\n",
    "\n",
    "df_test = df_test[['captain_id','active_days_sum','total_orders_sum','customer_rating_mean','login_hours_sum',\n",
    "                   'Total_Pings_sum','dropped_orders_sum','apr','ccr','rph','dpr','percent_non_cash_rides','percent_surge_rides','percent_idle_time','percent_non_link_orders']]\n",
    "\n",
    "df_test_2 = df_test_2[['captain_id','active_days_sum','total_orders_sum','customer_rating_mean','login_hours_sum',\n",
    "                   'Total_Pings_sum','dropped_orders_sum','apr','ccr','rph','dpr','percent_non_cash_rides','percent_surge_rides','percent_idle_time','percent_non_link_orders']]"
   ]
  },
  {
   "cell_type": "code",
   "execution_count": 83,
   "metadata": {},
   "outputs": [],
   "source": [
    "lookout = df_lookout[df_lookout['week'].isin([8,9,10,11,12,13])].groupby('captain_id').agg({'lookout_orders':'sum'}).reset_index()\n",
    "df_final = df_final.merge(lookout, how = 'left', on = 'captain_id')\n",
    "df_final['churn'] = np.where(df_final['lookout_orders']>0, 0, 1)\n",
    "df_final.drop('lookout_orders', axis=1, inplace=True)\n",
    "\n",
    "\n",
    "lookout = df_lookout[df_lookout['week'].isin([7,8,9,10,11,12])].groupby('captain_id').agg({'lookout_orders':'sum'}).reset_index()\n",
    "df_test = df_test.merge(lookout, how = 'left', on = 'captain_id')\n",
    "df_test['churn'] = np.where(df_test['lookout_orders']>0, 0, 1)\n",
    "df_test.drop('lookout_orders', axis=1, inplace=True)\n",
    "\n",
    "lookout = df_lookout[df_lookout['week'].isin([9,10,11,12,13,14])].groupby('captain_id').agg({'lookout_orders':'sum'}).reset_index()\n",
    "df_test_2 = df_test_2.merge(lookout, how = 'left', on = 'captain_id')\n",
    "df_test_2['churn'] = np.where(df_test_2['lookout_orders']>0, 0, 1)\n",
    "df_test_2.drop('lookout_orders', axis=1, inplace=True)"
   ]
  },
  {
   "cell_type": "code",
   "execution_count": 84,
   "metadata": {},
   "outputs": [],
   "source": [
    "df_final = pd.concat([df_final, df_test])"
   ]
  },
  {
   "cell_type": "code",
   "execution_count": 85,
   "metadata": {},
   "outputs": [],
   "source": [
    "df_final = df_final[df_final['active_days_sum']>0]\n",
    "\n",
    "#df_test = df_test[df_test['active_days_sum']>0]"
   ]
  },
  {
   "cell_type": "code",
   "execution_count": 86,
   "metadata": {},
   "outputs": [
    {
     "name": "stdout",
     "output_type": "stream",
     "text": [
      "<class 'pandas.core.frame.DataFrame'>\n",
      "Int64Index: 3418 entries, 1 to 4599\n",
      "Data columns (total 16 columns):\n",
      " #   Column                   Non-Null Count  Dtype  \n",
      "---  ------                   --------------  -----  \n",
      " 0   captain_id               3418 non-null   object \n",
      " 1   active_days_sum          3418 non-null   float64\n",
      " 2   total_orders_sum         3418 non-null   float64\n",
      " 3   customer_rating_mean     3350 non-null   float64\n",
      " 4   login_hours_sum          3418 non-null   float64\n",
      " 5   Total_Pings_sum          3418 non-null   float64\n",
      " 6   dropped_orders_sum       3418 non-null   float64\n",
      " 7   apr                      3418 non-null   float64\n",
      " 8   ccr                      3418 non-null   float64\n",
      " 9   rph                      3418 non-null   float64\n",
      " 10  dpr                      3418 non-null   float64\n",
      " 11  percent_non_cash_rides   3418 non-null   float64\n",
      " 12  percent_surge_rides      3418 non-null   float64\n",
      " 13  percent_idle_time        3418 non-null   float64\n",
      " 14  percent_non_link_orders  3418 non-null   float64\n",
      " 15  churn                    3418 non-null   int64  \n",
      "dtypes: float64(14), int64(1), object(1)\n",
      "memory usage: 454.0+ KB\n"
     ]
    }
   ],
   "source": [
    "df_final.info()"
   ]
  },
  {
   "cell_type": "code",
   "execution_count": 87,
   "metadata": {},
   "outputs": [],
   "source": [
    "df_final['customer_rating_mean'].fillna(4, inplace=True)\n",
    "df_final.fillna(0, inplace=True)\n",
    "\n",
    "df_test['customer_rating_mean'].fillna(4, inplace=True)\n",
    "df_test.fillna(0, inplace=True)\n",
    "\n",
    "df_test_2['customer_rating_mean'].fillna(4, inplace=True)\n",
    "df_test_2.fillna(0, inplace=True)"
   ]
  },
  {
   "cell_type": "code",
   "execution_count": 88,
   "metadata": {},
   "outputs": [
    {
     "data": {
      "text/plain": [
       "0    1977\n",
       "1    1441\n",
       "Name: churn, dtype: int64"
      ]
     },
     "execution_count": 88,
     "metadata": {},
     "output_type": "execute_result"
    }
   ],
   "source": [
    "df_final['churn'].value_counts()"
   ]
  },
  {
   "cell_type": "code",
   "execution_count": 89,
   "metadata": {},
   "outputs": [
    {
     "data": {
      "text/plain": [
       "Text(0.5, 1.0, 'Churn')"
      ]
     },
     "execution_count": 89,
     "metadata": {},
     "output_type": "execute_result"
    },
    {
     "data": {
      "image/png": "[encoded data removed]",
      "text/plain": [
       "<Figure size 1600x1000 with 2 Axes>"
      ]
     },
     "metadata": {
      "needs_background": "light"
     },
     "output_type": "display_data"
    }
   ],
   "source": [
    "fig, axes = plt.subplots(nrows=1, ncols=1,figsize=(16, 10))\n",
    "fig.set_dpi(100)\n",
    "ax = sns.heatmap(df_final[df_final['churn']==1][['active_days_sum','total_orders_sum','customer_rating_mean','login_hours_sum','Total_Pings_sum','dropped_orders_sum',\n",
    "                   'apr','ccr','rph','dpr','percent_non_cash_rides','percent_surge_rides','percent_idle_time','percent_non_link_orders']].corr(), ax = axes, cmap='coolwarm')\n",
    "ax.set_title('Churn')"
   ]
  },
  {
   "cell_type": "code",
   "execution_count": 16,
   "metadata": {},
   "outputs": [
    {
     "name": "stdout",
     "output_type": "stream",
     "text": [
      "Collecting xgboost\n",
      "  Using cached xgboost-1.6.0-py3-none-manylinux2014_x86_64.whl (193.7 MB)\n",
      "Requirement already satisfied: numpy in /opt/conda/lib/python3.8/site-packages (from xgboost) (1.19.1)\n",
      "Requirement already satisfied: scipy in /opt/conda/lib/python3.8/site-packages (from xgboost) (1.5.2)\n",
      "Installing collected packages: xgboost\n",
      "Successfully installed xgboost-1.6.0\n",
      "Note: you may need to restart the kernel to use updated packages.\n"
     ]
    }
   ],
   "source": [
    "pip install xgboost"
   ]
  },
  {
   "cell_type": "code",
   "execution_count": 90,
   "metadata": {},
   "outputs": [],
   "source": [
    "from xgboost import XGBClassifier\n",
    "from sklearn.ensemble import RandomForestClassifier\n",
    "from sklearn.model_selection import train_test_split\n",
    "from sklearn.metrics import accuracy_score, confusion_matrix, classification_report\n",
    "from sklearn.preprocessing import LabelEncoder, MinMaxScaler\n",
    "import time\n",
    "\n",
    "scaler = MinMaxScaler()\n",
    "tmp = scaler.fit_transform(df_final.drop(['captain_id','churn'], axis=1))\n",
    "# split data into train and test sets\n",
    "seed = 7\n",
    "test_size = 0.33\n",
    "X_train, X_test, y_train, y_test = train_test_split(tmp, df_final['churn'], test_size=test_size, random_state=seed)\n",
    "\n",
    "tst = scaler.fit_transform(df_test.drop(['captain_id','churn'], axis=1))\n",
    "\n",
    "tst_2 = scaler.fit_transform(df_test_2.drop(['captain_id','churn'], axis=1))"
   ]
  },
  {
   "cell_type": "code",
   "execution_count": 93,
   "metadata": {},
   "outputs": [
    {
     "name": "stdout",
     "output_type": "stream",
     "text": [
      "Accuracy: 66.40%\n"
     ]
    }
   ],
   "source": [
    "##XGBoost\n",
    "\n",
    "# fit model no training data\n",
    "model = XGBClassifier(learning_rate =0.1,\n",
    "                         n_estimators=100,\n",
    "                         max_depth=4,\n",
    "                         min_child_weight=1,\n",
    "                         gamma=0,\n",
    "                         subsample=0.8,\n",
    "                         colsample_bytree=0.3,\n",
    "                         objective= 'binary:logistic',\n",
    "                         nthread=4,\n",
    "                         scale_pos_weight=1,\n",
    "                         seed=29)\n",
    "model.fit(X_train, y_train)\n",
    "\n",
    "# make predictions for test data\n",
    "y_pred = model.predict(X_test)\n",
    "predictions = [value for value in y_pred]\n",
    "\n",
    "# evaluate predictions\n",
    "accuracy = accuracy_score(y_test, predictions)\n",
    "print(\"Accuracy: %.2f%%\" % (accuracy * 100.0))"
   ]
  },
  {
   "cell_type": "code",
   "execution_count": 94,
   "metadata": {},
   "outputs": [
    {
     "name": "stdout",
     "output_type": "stream",
     "text": [
      "Scikit-Learn's Random Forest Classifier's prediction accuracy is: 67.11\n",
      "Time consumed for training: 0.383 seconds\n",
      "Time consumed for prediction: 0.05848 seconds\n"
     ]
    }
   ],
   "source": [
    "## Randome Forest Classifier\n",
    "\n",
    "from sklearn.ensemble import RandomForestClassifier\n",
    "from sklearn.model_selection import GridSearchCV\n",
    "\n",
    "\n",
    "rfc = RandomForestClassifier(bootstrap=True,\n",
    "                             n_estimators=100,\n",
    "                             max_depth=4,\n",
    "                             max_features=0.3, \n",
    "                             min_samples_leaf = 4,\n",
    "                             min_samples_split=2,\n",
    "                             max_leaf_nodes=None,\n",
    "                             criterion = 'entropy', \n",
    "                             oob_score = True, \n",
    "                             n_jobs = -1,\n",
    "                             random_state = 29)\n",
    "training_start = time.perf_counter()\n",
    "rfc.fit(X_train, y_train)\n",
    "training_end = time.perf_counter()\n",
    "prediction_start = time.perf_counter()\n",
    "preds = rfc.predict(X_test)\n",
    "prediction_end = time.perf_counter()\n",
    "acc_rfc = (preds == y_test).sum().astype(float) / len(preds)*100\n",
    "rfc_train_time = training_end-training_start\n",
    "rfc_prediction_time = prediction_end-prediction_start\n",
    "print(\"Scikit-Learn's Random Forest Classifier's prediction accuracy is: %3.2f\" % (acc_rfc))\n",
    "print(\"Time consumed for training: %4.3f seconds\" % (rfc_train_time))\n",
    "print(\"Time consumed for prediction: %6.5f seconds\" % (rfc_prediction_time))"
   ]
  },
  {
   "cell_type": "code",
   "execution_count": 95,
   "metadata": {},
   "outputs": [
    {
     "data": {
      "text/plain": [
       "<AxesSubplot:>"
      ]
     },
     "execution_count": 95,
     "metadata": {},
     "output_type": "execute_result"
    },
    {
     "data": {
      "image/png": "[encoded data removed]",
      "text/plain": [
       "<Figure size 432x288 with 1 Axes>"
      ]
     },
     "metadata": {
      "needs_background": "light"
     },
     "output_type": "display_data"
    }
   ],
   "source": [
    "feature_scores = pd.Series(rfc.feature_importances_, index=df_final.columns.drop(['captain_id','churn'])).sort_values(ascending=False)\n",
    "feature_scores.plot(kind='barh')"
   ]
  },
  {
   "cell_type": "code",
   "execution_count": 63,
   "metadata": {},
   "outputs": [
    {
     "data": {
      "text/plain": [
       "array([[771, 217],\n",
       "       [289, 327]])"
      ]
     },
     "execution_count": 63,
     "metadata": {},
     "output_type": "execute_result"
    }
   ],
   "source": [
    "confusion_matrix(y_test, preds)"
   ]
  },
  {
   "cell_type": "code",
   "execution_count": 64,
   "metadata": {},
   "outputs": [
    {
     "name": "stdout",
     "output_type": "stream",
     "text": [
      "              precision    recall  f1-score   support\n",
      "\n",
      "           0       0.73      0.78      0.75       988\n",
      "           1       0.60      0.53      0.56       616\n",
      "\n",
      "    accuracy                           0.68      1604\n",
      "   macro avg       0.66      0.66      0.66      1604\n",
      "weighted avg       0.68      0.68      0.68      1604\n",
      "\n"
     ]
    }
   ],
   "source": [
    "print(classification_report(y_test, preds))"
   ]
  },
  {
   "cell_type": "code",
   "execution_count": 96,
   "metadata": {},
   "outputs": [
    {
     "name": "stdout",
     "output_type": "stream",
     "text": [
      "Scikit-Learn's Random Forest Classifier's prediction accuracy is: 82.35\n"
     ]
    }
   ],
   "source": [
    "preds = rfc.predict(tst)\n",
    "acc_rfc = (preds == df_test['churn']).sum().astype(float) / len(preds)*100\n",
    "print(\"Scikit-Learn's Random Forest Classifier's prediction accuracy is: %3.2f\" % (acc_rfc))"
   ]
  },
  {
   "cell_type": "code",
   "execution_count": 97,
   "metadata": {},
   "outputs": [
    {
     "name": "stdout",
     "output_type": "stream",
     "text": [
      "Scikit-Learn's Random Forest Classifier's prediction accuracy is: 82.20\n"
     ]
    }
   ],
   "source": [
    "preds = rfc.predict(tst_2)\n",
    "acc_rfc = (preds == df_test_2['churn']).sum().astype(float) / len(preds)*100\n",
    "print(\"Scikit-Learn's Random Forest Classifier's prediction accuracy is: %3.2f\" % (acc_rfc))"
   ]
  },
  {
   "cell_type": "code",
   "execution_count": 219,
   "metadata": {},
   "outputs": [
    {
     "ename": "AttributeError",
     "evalue": "'dict' object has no attribute 'best_params_'",
     "output_type": "error",
     "traceback": [
      "\u001b[0;31m---------------------------------------------------------------------------\u001b[0m",
      "\u001b[0;31mAttributeError\u001b[0m                            Traceback (most recent call last)",
      "\u001b[0;32m<ipython-input-219-0baf93e22db2>\u001b[0m in \u001b[0;36m<module>\u001b[0;34m\u001b[0m\n\u001b[1;32m     11\u001b[0m \u001b[0mcv\u001b[0m \u001b[0;34m=\u001b[0m \u001b[0mGridSearchCV\u001b[0m\u001b[0;34m(\u001b[0m\u001b[0mrfc\u001b[0m\u001b[0;34m,\u001b[0m \u001b[0mparameters\u001b[0m\u001b[0;34m,\u001b[0m \u001b[0mcv\u001b[0m\u001b[0;34m=\u001b[0m\u001b[0;36m5\u001b[0m\u001b[0;34m)\u001b[0m\u001b[0;34m\u001b[0m\u001b[0;34m\u001b[0m\u001b[0m\n\u001b[1;32m     12\u001b[0m \u001b[0mcv\u001b[0m\u001b[0;34m.\u001b[0m\u001b[0mfit\u001b[0m\u001b[0;34m(\u001b[0m\u001b[0mX_train\u001b[0m\u001b[0;34m,\u001b[0m \u001b[0my_train\u001b[0m\u001b[0;34m.\u001b[0m\u001b[0mvalues\u001b[0m\u001b[0;34m.\u001b[0m\u001b[0mravel\u001b[0m\u001b[0;34m(\u001b[0m\u001b[0;34m)\u001b[0m\u001b[0;34m)\u001b[0m\u001b[0;34m\u001b[0m\u001b[0;34m\u001b[0m\u001b[0m\n\u001b[0;32m---> 13\u001b[0;31m \u001b[0mparameters\u001b[0m\u001b[0;34m.\u001b[0m\u001b[0mbest_params_\u001b[0m\u001b[0;34m\u001b[0m\u001b[0;34m\u001b[0m\u001b[0m\n\u001b[0m",
      "\u001b[0;31mAttributeError\u001b[0m: 'dict' object has no attribute 'best_params_'"
     ]
    }
   ],
   "source": [
    "parameters = {\n",
    "    \"bootstrap\":[True, False],\n",
    "    \"n_estimators\":[5,10,50,100,200],\n",
    "    \"max_depth\":[2,4,8,16,32,None],\n",
    "    \"max_features\":[0.2, 0.3, 0.4, 0.5, 0.6, 0.7],\n",
    "    \"min_samples_leaf\": [1, 2, 4],\n",
    "    \"min_samples_split\": [2, 5, 10]\n",
    "}\n",
    "\n",
    "rfc = RandomForestClassifier()\n",
    "cv = GridSearchCV(rfc, parameters, cv=5)\n",
    "cv.fit(X_train, y_train.values.ravel())\n",
    "parameters.best_params_"
   ]
  },
  {
   "cell_type": "code",
   "execution_count": null,
   "metadata": {},
   "outputs": [],
   "source": [
    "parameters.best_params_"
   ]
  },
  {
   "cell_type": "code",
   "execution_count": 220,
   "metadata": {},
   "outputs": [],
   "source": [
    "def display(results):\n",
    "    print(f'Best parameters are: {results.best_params_}')\n",
    "    print(\"\\n\")\n",
    "    mean_score = results.cv_results_['mean_test_score']\n",
    "    std_score = results.cv_results_['std_test_score']\n",
    "    params = results.cv_results_['params']\n",
    "    for mean,std,params in zip(mean_score,std_score,params):\n",
    "        print(f'{round(mean,3)} + or -{round(std,3)} for the {params}')"
   ]
  },
  {
   "cell_type": "code",
   "execution_count": 98,
   "metadata": {},
   "outputs": [],
   "source": [
    "#display(cv)"
   ]
  },
  {
   "cell_type": "code",
   "execution_count": 105,
   "metadata": {},
   "outputs": [],
   "source": [
    "x = df_ltr[df_ltr['week']==4].drop('week', axis=1).merge(df_rides[df_rides['week'].isin([5,6])], how = 'left', on = 'captain_id')"
   ]
  },
  {
   "cell_type": "code",
   "execution_count": 106,
   "metadata": {},
   "outputs": [
    {
     "data": {
      "text/html": [
       "<div>\n",
       "<style scoped>\n",
       "    .dataframe tbody tr th:only-of-type {\n",
       "        vertical-align: middle;\n",
       "    }\n",
       "\n",
       "    .dataframe tbody tr th {\n",
       "        vertical-align: top;\n",
       "    }\n",
       "\n",
       "    .dataframe thead th {\n",
       "        text-align: right;\n",
       "    }\n",
       "</style>\n",
       "<table border=\"1\" class=\"dataframe\">\n",
       "  <thead>\n",
       "    <tr style=\"text-align: right;\">\n",
       "      <th></th>\n",
       "      <th>captain_id</th>\n",
       "      <th>ltr</th>\n",
       "      <th>active_days</th>\n",
       "      <th>link_orders</th>\n",
       "      <th>delivery_orders</th>\n",
       "      <th>total_orders</th>\n",
       "      <th>customer_rating</th>\n",
       "      <th>ride_duration</th>\n",
       "      <th>ride_distance</th>\n",
       "      <th>non_cash_rides</th>\n",
       "      <th>surge_rides</th>\n",
       "      <th>week</th>\n",
       "    </tr>\n",
       "  </thead>\n",
       "  <tbody>\n",
       "    <tr>\n",
       "      <th>0</th>\n",
       "      <td>59dce792fefbc7ce33a1a29e</td>\n",
       "      <td>0.0</td>\n",
       "      <td>0.0</td>\n",
       "      <td>0.0</td>\n",
       "      <td>0.0</td>\n",
       "      <td>0.0</td>\n",
       "      <td>0.000000</td>\n",
       "      <td>0.000000</td>\n",
       "      <td>0.0000</td>\n",
       "      <td>0.0</td>\n",
       "      <td>0.0</td>\n",
       "      <td>0.0</td>\n",
       "    </tr>\n",
       "    <tr>\n",
       "      <th>1</th>\n",
       "      <td>59e5b0eb2298384a130df985</td>\n",
       "      <td>0.0</td>\n",
       "      <td>0.0</td>\n",
       "      <td>0.0</td>\n",
       "      <td>0.0</td>\n",
       "      <td>0.0</td>\n",
       "      <td>0.000000</td>\n",
       "      <td>0.000000</td>\n",
       "      <td>0.0000</td>\n",
       "      <td>0.0</td>\n",
       "      <td>0.0</td>\n",
       "      <td>0.0</td>\n",
       "    </tr>\n",
       "    <tr>\n",
       "      <th>2</th>\n",
       "      <td>59e6ee181ef4c6983658b330</td>\n",
       "      <td>47.0</td>\n",
       "      <td>3.0</td>\n",
       "      <td>16.0</td>\n",
       "      <td>4.0</td>\n",
       "      <td>20.0</td>\n",
       "      <td>4.333333</td>\n",
       "      <td>212.098450</td>\n",
       "      <td>90.7430</td>\n",
       "      <td>5.0</td>\n",
       "      <td>7.0</td>\n",
       "      <td>5.0</td>\n",
       "    </tr>\n",
       "    <tr>\n",
       "      <th>3</th>\n",
       "      <td>59ec764b0acca92a80791855</td>\n",
       "      <td>15.0</td>\n",
       "      <td>0.0</td>\n",
       "      <td>0.0</td>\n",
       "      <td>0.0</td>\n",
       "      <td>0.0</td>\n",
       "      <td>0.000000</td>\n",
       "      <td>0.000000</td>\n",
       "      <td>0.0000</td>\n",
       "      <td>0.0</td>\n",
       "      <td>0.0</td>\n",
       "      <td>0.0</td>\n",
       "    </tr>\n",
       "    <tr>\n",
       "      <th>4</th>\n",
       "      <td>59ef0509dd772a70fdd57b1b</td>\n",
       "      <td>86.0</td>\n",
       "      <td>6.0</td>\n",
       "      <td>12.0</td>\n",
       "      <td>1.0</td>\n",
       "      <td>13.0</td>\n",
       "      <td>8.166667</td>\n",
       "      <td>212.165683</td>\n",
       "      <td>53.6106</td>\n",
       "      <td>3.0</td>\n",
       "      <td>1.0</td>\n",
       "      <td>11.0</td>\n",
       "    </tr>\n",
       "  </tbody>\n",
       "</table>\n",
       "</div>"
      ],
      "text/plain": [
       "                 captain_id   ltr  active_days  link_orders  delivery_orders  \\\n",
       "0  59dce792fefbc7ce33a1a29e   0.0          0.0          0.0              0.0   \n",
       "1  59e5b0eb2298384a130df985   0.0          0.0          0.0              0.0   \n",
       "2  59e6ee181ef4c6983658b330  47.0          3.0         16.0              4.0   \n",
       "3  59ec764b0acca92a80791855  15.0          0.0          0.0              0.0   \n",
       "4  59ef0509dd772a70fdd57b1b  86.0          6.0         12.0              1.0   \n",
       "\n",
       "   total_orders  customer_rating  ride_duration  ride_distance  \\\n",
       "0           0.0         0.000000       0.000000         0.0000   \n",
       "1           0.0         0.000000       0.000000         0.0000   \n",
       "2          20.0         4.333333     212.098450        90.7430   \n",
       "3           0.0         0.000000       0.000000         0.0000   \n",
       "4          13.0         8.166667     212.165683        53.6106   \n",
       "\n",
       "   non_cash_rides  surge_rides  week  \n",
       "0             0.0          0.0   0.0  \n",
       "1             0.0          0.0   0.0  \n",
       "2             5.0          7.0   5.0  \n",
       "3             0.0          0.0   0.0  \n",
       "4             3.0          1.0  11.0  "
      ]
     },
     "execution_count": 106,
     "metadata": {},
     "output_type": "execute_result"
    }
   ],
   "source": [
    "x = x.groupby(['captain_id']).agg('sum').reset_index()\n",
    "x.head()"
   ]
  },
  {
   "cell_type": "code",
   "execution_count": 107,
   "metadata": {},
   "outputs": [
    {
     "data": {
      "text/plain": [
       "(4601, 12)"
      ]
     },
     "execution_count": 107,
     "metadata": {},
     "output_type": "execute_result"
    }
   ],
   "source": [
    "x.shape"
   ]
  },
  {
   "cell_type": "code",
   "execution_count": 110,
   "metadata": {},
   "outputs": [
    {
     "data": {
      "text/html": [
       "<div>\n",
       "<style scoped>\n",
       "    .dataframe tbody tr th:only-of-type {\n",
       "        vertical-align: middle;\n",
       "    }\n",
       "\n",
       "    .dataframe tbody tr th {\n",
       "        vertical-align: top;\n",
       "    }\n",
       "\n",
       "    .dataframe thead th {\n",
       "        text-align: right;\n",
       "    }\n",
       "</style>\n",
       "<table border=\"1\" class=\"dataframe\">\n",
       "  <thead>\n",
       "    <tr style=\"text-align: right;\">\n",
       "      <th></th>\n",
       "      <th>captain_id</th>\n",
       "      <th>ltr</th>\n",
       "      <th>active_days</th>\n",
       "      <th>link_orders</th>\n",
       "      <th>delivery_orders</th>\n",
       "      <th>total_orders</th>\n",
       "      <th>customer_rating</th>\n",
       "      <th>ride_duration</th>\n",
       "      <th>ride_distance</th>\n",
       "      <th>non_cash_rides</th>\n",
       "      <th>surge_rides</th>\n",
       "      <th>week</th>\n",
       "    </tr>\n",
       "  </thead>\n",
       "  <tbody>\n",
       "    <tr>\n",
       "      <th>0</th>\n",
       "      <td>59dce792fefbc7ce33a1a29e</td>\n",
       "      <td>0.0</td>\n",
       "      <td>0.0</td>\n",
       "      <td>0.0</td>\n",
       "      <td>0.0</td>\n",
       "      <td>0.0</td>\n",
       "      <td>0.0</td>\n",
       "      <td>0.0</td>\n",
       "      <td>0.0</td>\n",
       "      <td>0.0</td>\n",
       "      <td>0.0</td>\n",
       "      <td>0.0</td>\n",
       "    </tr>\n",
       "    <tr>\n",
       "      <th>1</th>\n",
       "      <td>59e5b0eb2298384a130df985</td>\n",
       "      <td>0.0</td>\n",
       "      <td>0.0</td>\n",
       "      <td>0.0</td>\n",
       "      <td>0.0</td>\n",
       "      <td>0.0</td>\n",
       "      <td>0.0</td>\n",
       "      <td>0.0</td>\n",
       "      <td>0.0</td>\n",
       "      <td>0.0</td>\n",
       "      <td>0.0</td>\n",
       "      <td>0.0</td>\n",
       "    </tr>\n",
       "    <tr>\n",
       "      <th>3</th>\n",
       "      <td>59ec764b0acca92a80791855</td>\n",
       "      <td>15.0</td>\n",
       "      <td>0.0</td>\n",
       "      <td>0.0</td>\n",
       "      <td>0.0</td>\n",
       "      <td>0.0</td>\n",
       "      <td>0.0</td>\n",
       "      <td>0.0</td>\n",
       "      <td>0.0</td>\n",
       "      <td>0.0</td>\n",
       "      <td>0.0</td>\n",
       "      <td>0.0</td>\n",
       "    </tr>\n",
       "    <tr>\n",
       "      <th>6</th>\n",
       "      <td>59f49745d2fb657d8d5cdf6d</td>\n",
       "      <td>0.0</td>\n",
       "      <td>0.0</td>\n",
       "      <td>0.0</td>\n",
       "      <td>0.0</td>\n",
       "      <td>0.0</td>\n",
       "      <td>0.0</td>\n",
       "      <td>0.0</td>\n",
       "      <td>0.0</td>\n",
       "      <td>0.0</td>\n",
       "      <td>0.0</td>\n",
       "      <td>0.0</td>\n",
       "    </tr>\n",
       "    <tr>\n",
       "      <th>8</th>\n",
       "      <td>59f829389e8ef95b572679ff</td>\n",
       "      <td>0.0</td>\n",
       "      <td>0.0</td>\n",
       "      <td>0.0</td>\n",
       "      <td>0.0</td>\n",
       "      <td>0.0</td>\n",
       "      <td>0.0</td>\n",
       "      <td>0.0</td>\n",
       "      <td>0.0</td>\n",
       "      <td>0.0</td>\n",
       "      <td>0.0</td>\n",
       "      <td>0.0</td>\n",
       "    </tr>\n",
       "    <tr>\n",
       "      <th>...</th>\n",
       "      <td>...</td>\n",
       "      <td>...</td>\n",
       "      <td>...</td>\n",
       "      <td>...</td>\n",
       "      <td>...</td>\n",
       "      <td>...</td>\n",
       "      <td>...</td>\n",
       "      <td>...</td>\n",
       "      <td>...</td>\n",
       "      <td>...</td>\n",
       "      <td>...</td>\n",
       "      <td>...</td>\n",
       "    </tr>\n",
       "    <tr>\n",
       "      <th>4590</th>\n",
       "      <td>61f66a6f6916b85a6faf1217</td>\n",
       "      <td>103.0</td>\n",
       "      <td>0.0</td>\n",
       "      <td>0.0</td>\n",
       "      <td>0.0</td>\n",
       "      <td>0.0</td>\n",
       "      <td>0.0</td>\n",
       "      <td>0.0</td>\n",
       "      <td>0.0</td>\n",
       "      <td>0.0</td>\n",
       "      <td>0.0</td>\n",
       "      <td>0.0</td>\n",
       "    </tr>\n",
       "    <tr>\n",
       "      <th>4591</th>\n",
       "      <td>61f670dd794e424cd04b10db</td>\n",
       "      <td>0.0</td>\n",
       "      <td>0.0</td>\n",
       "      <td>0.0</td>\n",
       "      <td>0.0</td>\n",
       "      <td>0.0</td>\n",
       "      <td>0.0</td>\n",
       "      <td>0.0</td>\n",
       "      <td>0.0</td>\n",
       "      <td>0.0</td>\n",
       "      <td>0.0</td>\n",
       "      <td>0.0</td>\n",
       "    </tr>\n",
       "    <tr>\n",
       "      <th>4592</th>\n",
       "      <td>61f67966ebef823dd0294863</td>\n",
       "      <td>26.0</td>\n",
       "      <td>0.0</td>\n",
       "      <td>0.0</td>\n",
       "      <td>0.0</td>\n",
       "      <td>0.0</td>\n",
       "      <td>0.0</td>\n",
       "      <td>0.0</td>\n",
       "      <td>0.0</td>\n",
       "      <td>0.0</td>\n",
       "      <td>0.0</td>\n",
       "      <td>0.0</td>\n",
       "    </tr>\n",
       "    <tr>\n",
       "      <th>4595</th>\n",
       "      <td>61f6805d794e42da2f4b1cb6</td>\n",
       "      <td>46.0</td>\n",
       "      <td>0.0</td>\n",
       "      <td>0.0</td>\n",
       "      <td>0.0</td>\n",
       "      <td>0.0</td>\n",
       "      <td>0.0</td>\n",
       "      <td>0.0</td>\n",
       "      <td>0.0</td>\n",
       "      <td>0.0</td>\n",
       "      <td>0.0</td>\n",
       "      <td>0.0</td>\n",
       "    </tr>\n",
       "    <tr>\n",
       "      <th>4600</th>\n",
       "      <td>61f69be8794e42b9ec4b31fd</td>\n",
       "      <td>0.0</td>\n",
       "      <td>0.0</td>\n",
       "      <td>0.0</td>\n",
       "      <td>0.0</td>\n",
       "      <td>0.0</td>\n",
       "      <td>0.0</td>\n",
       "      <td>0.0</td>\n",
       "      <td>0.0</td>\n",
       "      <td>0.0</td>\n",
       "      <td>0.0</td>\n",
       "      <td>0.0</td>\n",
       "    </tr>\n",
       "  </tbody>\n",
       "</table>\n",
       "<p>2848 rows × 12 columns</p>\n",
       "</div>"
      ],
      "text/plain": [
       "                    captain_id    ltr  active_days  link_orders  \\\n",
       "0     59dce792fefbc7ce33a1a29e    0.0          0.0          0.0   \n",
       "1     59e5b0eb2298384a130df985    0.0          0.0          0.0   \n",
       "3     59ec764b0acca92a80791855   15.0          0.0          0.0   \n",
       "6     59f49745d2fb657d8d5cdf6d    0.0          0.0          0.0   \n",
       "8     59f829389e8ef95b572679ff    0.0          0.0          0.0   \n",
       "...                        ...    ...          ...          ...   \n",
       "4590  61f66a6f6916b85a6faf1217  103.0          0.0          0.0   \n",
       "4591  61f670dd794e424cd04b10db    0.0          0.0          0.0   \n",
       "4592  61f67966ebef823dd0294863   26.0          0.0          0.0   \n",
       "4595  61f6805d794e42da2f4b1cb6   46.0          0.0          0.0   \n",
       "4600  61f69be8794e42b9ec4b31fd    0.0          0.0          0.0   \n",
       "\n",
       "      delivery_orders  total_orders  customer_rating  ride_duration  \\\n",
       "0                 0.0           0.0              0.0            0.0   \n",
       "1                 0.0           0.0              0.0            0.0   \n",
       "3                 0.0           0.0              0.0            0.0   \n",
       "6                 0.0           0.0              0.0            0.0   \n",
       "8                 0.0           0.0              0.0            0.0   \n",
       "...               ...           ...              ...            ...   \n",
       "4590              0.0           0.0              0.0            0.0   \n",
       "4591              0.0           0.0              0.0            0.0   \n",
       "4592              0.0           0.0              0.0            0.0   \n",
       "4595              0.0           0.0              0.0            0.0   \n",
       "4600              0.0           0.0              0.0            0.0   \n",
       "\n",
       "      ride_distance  non_cash_rides  surge_rides  week  \n",
       "0               0.0             0.0          0.0   0.0  \n",
       "1               0.0             0.0          0.0   0.0  \n",
       "3               0.0             0.0          0.0   0.0  \n",
       "6               0.0             0.0          0.0   0.0  \n",
       "8               0.0             0.0          0.0   0.0  \n",
       "...             ...             ...          ...   ...  \n",
       "4590            0.0             0.0          0.0   0.0  \n",
       "4591            0.0             0.0          0.0   0.0  \n",
       "4592            0.0             0.0          0.0   0.0  \n",
       "4595            0.0             0.0          0.0   0.0  \n",
       "4600            0.0             0.0          0.0   0.0  \n",
       "\n",
       "[2848 rows x 12 columns]"
      ]
     },
     "execution_count": 110,
     "metadata": {},
     "output_type": "execute_result"
    }
   ],
   "source": [
    "x[x['total_orders']==0]"
   ]
  },
  {
   "cell_type": "code",
   "execution_count": null,
   "metadata": {},
   "outputs": [],
   "source": []
  },
  {
   "cell_type": "code",
   "execution_count": 382,
   "metadata": {},
   "outputs": [
    {
     "name": "stdout",
     "output_type": "stream",
     "text": [
      "Accuracy: 64.38%\n"
     ]
    }
   ],
   "source": [
    "##Decision Tree\n",
    "\n",
    "from sklearn.tree import DecisionTreeClassifier\n",
    "\n",
    "dtree=DecisionTreeClassifier()\n",
    "dtree.fit(X_train,y_train)\n",
    "#print('Decision Tree Classifier Created')\n",
    "y_pred = dtree.predict(X_test)\n",
    "accuracy = accuracy_score(y_test, y_pred)\n",
    "print(\"Accuracy: %.2f%%\" % (accuracy * 100.0))"
   ]
  },
  {
   "cell_type": "code",
   "execution_count": null,
   "metadata": {},
   "outputs": [],
   "source": []
  }
 ],
 "metadata": {
  "kernelspec": {
   "display_name": "Python 3",
   "language": "python",
   "name": "python3"
  },
  "language_info": {
   "codemirror_mode": {
    "name": "ipython",
    "version": 3
   },
   "file_extension": ".py",
   "mimetype": "text/x-python",
   "name": "python",
   "nbconvert_exporter": "python",
   "pygments_lexer": "ipython3",
   "version": "3.8.4"
  }
 },
 "nbformat": 4,
 "nbformat_minor": 4
}
