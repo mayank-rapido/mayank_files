{
 "cells": [
  {
   "cell_type": "code",
   "execution_count": 1,
   "metadata": {},
   "outputs": [],
   "source": [
    "import pandas as pd\n",
    "import numpy as np\n",
    "from datetime import datetime, timedelta\n",
    "import seaborn as sns\n",
    "import matplotlib.pyplot as plt\n",
    "%matplotlib inline\n",
    "from pyhive import presto\n",
    "from pymongo import MongoClient\n",
    "import warnings\n",
    "warnings.filterwarnings(\"ignore\")\n",
    "import my_func\n",
    "\n",
    "presto_conn = presto.connect(\n",
    "    host='bi-presto.serving.data.production.internal',\n",
    "    port=80,\n",
    "    protocol='http',\n",
    "    catalog='hive',\n",
    "    username='mayank.jha@rapido.bike',\n",
    "    # requests_kwargs=req_kw,\n",
    ")\n",
    "\n",
    "from pymongo import MongoClient\n",
    "client16                            = MongoClient(\"mongodb://v-kubernetes-acl--prod-mongo-subs-vWmvA3LNGNAq56t9SsN0-1651058959:4bcy-bdMB9mmiKKKwq0Y@subscription-mongo-4.db.backend.production.internal:27107/rapidoPass?authSource=rapidoPass\")\n",
    "db16                                = client16['rapidoPass']\n",
    "subscriptionCollection                = db16['captainSubscriptions']"
   ]
  },
  {
   "cell_type": "code",
   "execution_count": 2,
   "metadata": {},
   "outputs": [],
   "source": [
    "# Cities\n",
    "\n",
    "def get_cities():\n",
    "\n",
    "    orders_query = \"\"\"   \n",
    "    select _id as city_id, displayname as city_name from legacy.cities where active=true\n",
    "                    \n",
    "               \"\"\"\n",
    "    \n",
    "    #print(orders_query)\n",
    "    df_orders_data = pd.read_sql(orders_query, presto_conn)\n",
    "    return df_orders_data\n",
    "\n",
    "df_city = get_cities()\n",
    "#df_city.head()"
   ]
  },
  {
   "cell_type": "code",
   "execution_count": 4,
   "metadata": {},
   "outputs": [],
   "source": [
    "df_subscription = pd.io.json.json_normalize(list(subscriptionCollection.find({})))\n",
    "df_subscription = df_subscription[['userId','city','startTime','endTime','status','paymentType','amount','active','subscriptionRule.userSelectors']]\n",
    "df_subscription = df_subscription[['userId','city','startTime','endTime','status','paymentType','amount']]\n",
    "df_subscription['startTime'] = df_subscription['startTime'].apply(lambda x : (datetime.utcfromtimestamp(x)+timedelta(minutes = 330)).strftime('%Y-%m-%d'))\n",
    "df_subscription['endTime'] = df_subscription['endTime'].apply(lambda x : (datetime.utcfromtimestamp(x)+timedelta(minutes = 330)).strftime('%Y-%m-%d'))\n",
    "\n",
    "\n",
    "df_subscription = df_subscription.merge(df_city, how = 'left', left_on = 'city', right_on = 'city_id')\n",
    "df_subscription['city'] = df_subscription['city_name']\n",
    "df_subscription.drop(['city_id','city_name'], axis = 1, inplace = True)\n",
    "df_subscription['week'] = df_subscription['endTime'].apply(lambda x : pd.to_datetime(x).strftime('%V')).astype(int)\n",
    "df_subscription = df_subscription[(df_subscription['city']=='Kolkata') & (df_subscription['status']=='SUCCESS')]"
   ]
  },
  {
   "cell_type": "code",
   "execution_count": 6,
   "metadata": {},
   "outputs": [],
   "source": [
    "df_subscription.drop_duplicates('userId', inplace=True)"
   ]
  },
  {
   "cell_type": "code",
   "execution_count": 9,
   "metadata": {},
   "outputs": [],
   "source": [
    "df_subscription = df_subscription[['userId']].rename(columns={'userId':'captain_id'})"
   ]
  },
  {
   "cell_type": "code",
   "execution_count": null,
   "metadata": {},
   "outputs": [],
   "source": []
  },
  {
   "cell_type": "code",
   "execution_count": 15,
   "metadata": {},
   "outputs": [],
   "source": [
    "start_date = '2022-04-18'\n",
    "end_date = '2022-04-24'\n",
    "city = 'Kolkata'"
   ]
  },
  {
   "cell_type": "code",
   "execution_count": 17,
   "metadata": {},
   "outputs": [
    {
     "name": "stdout",
     "output_type": "stream",
     "text": [
      "fetching poc segments for :  2022-04-24\n",
      " fetched segment data :  22227\n"
     ]
    },
    {
     "data": {
      "text/html": [
       "<div>\n",
       "<style scoped>\n",
       "    .dataframe tbody tr th:only-of-type {\n",
       "        vertical-align: middle;\n",
       "    }\n",
       "\n",
       "    .dataframe tbody tr th {\n",
       "        vertical-align: top;\n",
       "    }\n",
       "\n",
       "    .dataframe thead th {\n",
       "        text-align: right;\n",
       "    }\n",
       "</style>\n",
       "<table border=\"1\" class=\"dataframe\">\n",
       "  <thead>\n",
       "    <tr style=\"text-align: right;\">\n",
       "      <th></th>\n",
       "      <th>captain_id</th>\n",
       "      <th>mobilenumber</th>\n",
       "      <th>city</th>\n",
       "      <th>poc_segment</th>\n",
       "      <th>recency</th>\n",
       "      <th>week</th>\n",
       "    </tr>\n",
       "  </thead>\n",
       "  <tbody>\n",
       "    <tr>\n",
       "      <th>0</th>\n",
       "      <td>5d5cb984a24c96105e1c447c</td>\n",
       "      <td>9831457038</td>\n",
       "      <td>Kolkata</td>\n",
       "      <td>LP_Intra_MO</td>\n",
       "      <td>active</td>\n",
       "      <td>2022-16</td>\n",
       "    </tr>\n",
       "    <tr>\n",
       "      <th>1</th>\n",
       "      <td>6028b50a19e4982abe1e2680</td>\n",
       "      <td>8617243976</td>\n",
       "      <td>Kolkata</td>\n",
       "      <td>ZP</td>\n",
       "      <td>churn</td>\n",
       "      <td>2022-16</td>\n",
       "    </tr>\n",
       "    <tr>\n",
       "      <th>2</th>\n",
       "      <td>6143f628de864c0664ff2602</td>\n",
       "      <td>9874923139</td>\n",
       "      <td>Kolkata</td>\n",
       "      <td>MP_Intra_UHO</td>\n",
       "      <td>active</td>\n",
       "      <td>2022-16</td>\n",
       "    </tr>\n",
       "    <tr>\n",
       "      <th>3</th>\n",
       "      <td>622eba81bbd060ce1ce91d84</td>\n",
       "      <td>8910529658</td>\n",
       "      <td>Kolkata</td>\n",
       "      <td>LP_D_UHO</td>\n",
       "      <td>dormant</td>\n",
       "      <td>2022-16</td>\n",
       "    </tr>\n",
       "    <tr>\n",
       "      <th>4</th>\n",
       "      <td>611e503934b93d7e6e2c812f</td>\n",
       "      <td>9038942717</td>\n",
       "      <td>Kolkata</td>\n",
       "      <td>ZP</td>\n",
       "      <td>churn</td>\n",
       "      <td>2022-16</td>\n",
       "    </tr>\n",
       "  </tbody>\n",
       "</table>\n",
       "</div>"
      ],
      "text/plain": [
       "                 captain_id mobilenumber     city   poc_segment  recency  \\\n",
       "0  5d5cb984a24c96105e1c447c   9831457038  Kolkata   LP_Intra_MO   active   \n",
       "1  6028b50a19e4982abe1e2680   8617243976  Kolkata            ZP    churn   \n",
       "2  6143f628de864c0664ff2602   9874923139  Kolkata  MP_Intra_UHO   active   \n",
       "3  622eba81bbd060ce1ce91d84   8910529658  Kolkata      LP_D_UHO  dormant   \n",
       "4  611e503934b93d7e6e2c812f   9038942717  Kolkata            ZP    churn   \n",
       "\n",
       "      week  \n",
       "0  2022-16  \n",
       "1  2022-16  \n",
       "2  2022-16  \n",
       "3  2022-16  \n",
       "4  2022-16  "
      ]
     },
     "execution_count": 17,
     "metadata": {},
     "output_type": "execute_result"
    }
   ],
   "source": [
    "# POC Segment\n",
    "\n",
    "def get_poc(dt, city):\n",
    "    print(\"fetching poc segments for : \",dt)\n",
    "    orders_query = \"\"\"   select cq.captain_id, \n",
    "                                csv.mobilenumber,\n",
    "                                cq.city_name as city,\n",
    "                                cq.segment as poc_segment,\n",
    "                                substr(cq.recency_segment, 1, strpos(cq.recency_segment, '_')-1) as recency\n",
    "                            from\n",
    "                                datasets.captain_quality_segments cq\n",
    "                                    left join datasets.captain_single_view csv\n",
    "                                        on cq.captain_id = csv.captainid\n",
    "                                where cq.yyyymmdd = '{sd}'\n",
    "                                    and cq.city_name = '{ct}'\n",
    "               \"\"\".format(sd = dt.replace('-',''), ct = city)\n",
    "    #print(orders_query)\n",
    "    df_lh = pd.read_sql(orders_query, presto_conn)\n",
    "    \n",
    "    print(\" fetched segment data : \", len(df_lh))\n",
    "\n",
    "    return df_lh\n",
    "\n",
    "poc_segment = pd.DataFrame()\n",
    "\n",
    "date_list = [pd.to_datetime(start_date) + timedelta(days=x) for x in range((pd.to_datetime(end_date)-pd.to_datetime(start_date)).days + 1)\n",
    "        if (pd.to_datetime(start_date) + timedelta(days=x)).weekday() == 6]\n",
    "date_list = [x.strftime('%Y-%m-%d') for x in date_list]\n",
    "\n",
    "for day in date_list : \n",
    "    segment = get_poc(day, city)\n",
    "    segment['week'] = pd.to_datetime(day).strftime('%Y-%V')\n",
    "    poc_segment = pd.concat([poc_segment,segment])\n",
    "\n",
    "poc_segment.head()"
   ]
  },
  {
   "cell_type": "code",
   "execution_count": null,
   "metadata": {},
   "outputs": [],
   "source": [
    "df_50 = df_subscription[df_subscription['captain_id']]"
   ]
  }
 ],
 "metadata": {
  "kernelspec": {
   "display_name": "Python 3",
   "language": "python",
   "name": "python3"
  },
  "language_info": {
   "codemirror_mode": {
    "name": "ipython",
    "version": 3
   },
   "file_extension": ".py",
   "mimetype": "text/x-python",
   "name": "python",
   "nbconvert_exporter": "python",
   "pygments_lexer": "ipython3",
   "version": "3.8.4"
  }
 },
 "nbformat": 4,
 "nbformat_minor": 4
}
