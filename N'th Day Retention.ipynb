{
 "cells": [
  {
   "cell_type": "code",
   "execution_count": 39,
   "metadata": {},
   "outputs": [],
   "source": [
    "import pandas as pd\n",
    "import numpy as np\n",
    "from datetime import datetime, timedelta\n",
    "import seaborn as sns\n",
    "import matplotlib.pyplot as plt\n",
    "%matplotlib inline\n",
    "from pyhive import presto\n",
    "from pymongo import MongoClient\n",
    "import warnings\n",
    "warnings.filterwarnings(\"ignore\")\n",
    "\n",
    "presto_conn = presto.connect(\n",
    "    host='presto.processing.yoda.run',\n",
    "    port=80,\n",
    "    protocol='http',\n",
    "    catalog='hive',\n",
    "    username='mayank.jha@rapido.bike',\n",
    "    # requests_kwargs=req_kw,\n",
    ")"
   ]
  },
  {
   "cell_type": "code",
   "execution_count": 18,
   "metadata": {},
   "outputs": [],
   "source": [
    "start_date = '2021-01-04'\n",
    "end_date = '2021-01-31'\n",
    "#city = 'Delhi'"
   ]
  },
  {
   "cell_type": "code",
   "execution_count": 19,
   "metadata": {},
   "outputs": [
    {
     "name": "stdout",
     "output_type": "stream",
     "text": [
      " fetched LTR :  50246\n"
     ]
    },
    {
     "data": {
      "text/html": [
       "<div>\n",
       "<style scoped>\n",
       "    .dataframe tbody tr th:only-of-type {\n",
       "        vertical-align: middle;\n",
       "    }\n",
       "\n",
       "    .dataframe tbody tr th {\n",
       "        vertical-align: top;\n",
       "    }\n",
       "\n",
       "    .dataframe thead th {\n",
       "        text-align: right;\n",
       "    }\n",
       "</style>\n",
       "<table border=\"1\" class=\"dataframe\">\n",
       "  <thead>\n",
       "    <tr style=\"text-align: right;\">\n",
       "      <th></th>\n",
       "      <th>captainid</th>\n",
       "      <th>registrationdate</th>\n",
       "      <th>registration_week</th>\n",
       "    </tr>\n",
       "  </thead>\n",
       "  <tbody>\n",
       "    <tr>\n",
       "      <th>0</th>\n",
       "      <td>5ff2a32b31243a24e8b04c19</td>\n",
       "      <td>2021-01-04</td>\n",
       "      <td>1</td>\n",
       "    </tr>\n",
       "    <tr>\n",
       "      <th>1</th>\n",
       "      <td>5ffad58a857d1b30a6285c6c</td>\n",
       "      <td>2021-01-10</td>\n",
       "      <td>1</td>\n",
       "    </tr>\n",
       "    <tr>\n",
       "      <th>2</th>\n",
       "      <td>5ff308c731243a49fbb091aa</td>\n",
       "      <td>2021-01-04</td>\n",
       "      <td>1</td>\n",
       "    </tr>\n",
       "    <tr>\n",
       "      <th>3</th>\n",
       "      <td>5ff9a43187d741134821c45f</td>\n",
       "      <td>2021-01-09</td>\n",
       "      <td>1</td>\n",
       "    </tr>\n",
       "    <tr>\n",
       "      <th>4</th>\n",
       "      <td>5ca033ac8c352421ea044b6d</td>\n",
       "      <td>2021-01-17</td>\n",
       "      <td>2</td>\n",
       "    </tr>\n",
       "  </tbody>\n",
       "</table>\n",
       "</div>"
      ],
      "text/plain": [
       "                  captainid registrationdate  registration_week\n",
       "0  5ff2a32b31243a24e8b04c19       2021-01-04                  1\n",
       "1  5ffad58a857d1b30a6285c6c       2021-01-10                  1\n",
       "2  5ff308c731243a49fbb091aa       2021-01-04                  1\n",
       "3  5ff9a43187d741134821c45f       2021-01-09                  1\n",
       "4  5ca033ac8c352421ea044b6d       2021-01-17                  2"
      ]
     },
     "execution_count": 19,
     "metadata": {},
     "output_type": "execute_result"
    }
   ],
   "source": [
    "# Fetch captains who registered in a particular time period\n",
    "\n",
    "def get_registered_captains(start_date, end_date):\n",
    "    orders_query = \"\"\"   select captainid, \n",
    "        registrationdate,\n",
    "        week_of_year(registrationdate) as registration_week\n",
    "        --lifetimerides, \n",
    "        --lastridedate, \n",
    "        --avgridesperday, \n",
    "        --avgcaptainrating, \n",
    "        --order_earning, \n",
    "        --incentive_earning, \n",
    "        --penalty, \n",
    "        --preferredtimebucket \n",
    "    \n",
    "    from datasets.captain_single_view \n",
    "    where activationdate is not null \n",
    "        and date_format(registrationdate, '%Y%m%d') between '{sd}' and '{ed}'            \n",
    "               \"\"\".format(sd = start_date.replace('-',''), ed = end_date.replace('-',''))\n",
    "\n",
    "\n",
    "    df_lh = pd.read_sql(orders_query, presto_conn)\n",
    "    \n",
    "    print(\" fetched LTR : \", len(df_lh))\n",
    "\n",
    "    return df_lh\n",
    "\n",
    " \n",
    "df_registered_captains = get_registered_captains(start_date, end_date)\n",
    "\n",
    "df_registered_captains.head()"
   ]
  },
  {
   "cell_type": "code",
   "execution_count": 20,
   "metadata": {},
   "outputs": [],
   "source": [
    "start_date = '2021-01-04'\n",
    "end_date = '2021-04-25'"
   ]
  },
  {
   "cell_type": "code",
   "execution_count": 21,
   "metadata": {},
   "outputs": [
    {
     "data": {
      "text/html": [
       "<div>\n",
       "<style scoped>\n",
       "    .dataframe tbody tr th:only-of-type {\n",
       "        vertical-align: middle;\n",
       "    }\n",
       "\n",
       "    .dataframe tbody tr th {\n",
       "        vertical-align: top;\n",
       "    }\n",
       "\n",
       "    .dataframe thead th {\n",
       "        text-align: right;\n",
       "    }\n",
       "</style>\n",
       "<table border=\"1\" class=\"dataframe\">\n",
       "  <thead>\n",
       "    <tr style=\"text-align: right;\">\n",
       "      <th></th>\n",
       "      <th>rider</th>\n",
       "      <th>orderdate</th>\n",
       "    </tr>\n",
       "  </thead>\n",
       "  <tbody>\n",
       "    <tr>\n",
       "      <th>0</th>\n",
       "      <td>59c6160657b98b565cdde42f</td>\n",
       "      <td>2021-04-22</td>\n",
       "    </tr>\n",
       "    <tr>\n",
       "      <th>1</th>\n",
       "      <td>5e19ce36e556205f524c33e8</td>\n",
       "      <td>2021-04-22</td>\n",
       "    </tr>\n",
       "    <tr>\n",
       "      <th>2</th>\n",
       "      <td>60222869c3fe0856576d13e7</td>\n",
       "      <td>2021-04-22</td>\n",
       "    </tr>\n",
       "    <tr>\n",
       "      <th>3</th>\n",
       "      <td>5e5dc3db3655eacf081228b7</td>\n",
       "      <td>2021-04-22</td>\n",
       "    </tr>\n",
       "    <tr>\n",
       "      <th>4</th>\n",
       "      <td>5de11af2ac56a62ec5e13d86</td>\n",
       "      <td>2021-04-22</td>\n",
       "    </tr>\n",
       "  </tbody>\n",
       "</table>\n",
       "</div>"
      ],
      "text/plain": [
       "                      rider   orderdate\n",
       "0  59c6160657b98b565cdde42f  2021-04-22\n",
       "1  5e19ce36e556205f524c33e8  2021-04-22\n",
       "2  60222869c3fe0856576d13e7  2021-04-22\n",
       "3  5e5dc3db3655eacf081228b7  2021-04-22\n",
       "4  5de11af2ac56a62ec5e13d86  2021-04-22"
      ]
     },
     "execution_count": 21,
     "metadata": {},
     "output_type": "execute_result"
    }
   ],
   "source": [
    "# Rides & Ratings\n",
    "\n",
    "rides_query = \"\"\"SELECT distinct rider,\n",
    "                    orderdate\n",
    "                    \n",
    "                    from legacy.orders\n",
    "                    where orderdate >= '{sd}'\n",
    "                    and orderdate <= '{ed}'\n",
    "                    and status = 'dropped'\n",
    "                    and spdfraud_flag != 1\n",
    "                    \n",
    "                    \"\"\".format(sd=start_date, ed= end_date)\n",
    "\n",
    "df_rides = pd.read_sql(rides_query, presto_conn)\n",
    "df_rides.head()"
   ]
  },
  {
   "cell_type": "code",
   "execution_count": 22,
   "metadata": {},
   "outputs": [
    {
     "data": {
      "text/html": [
       "<div>\n",
       "<style scoped>\n",
       "    .dataframe tbody tr th:only-of-type {\n",
       "        vertical-align: middle;\n",
       "    }\n",
       "\n",
       "    .dataframe tbody tr th {\n",
       "        vertical-align: top;\n",
       "    }\n",
       "\n",
       "    .dataframe thead th {\n",
       "        text-align: right;\n",
       "    }\n",
       "</style>\n",
       "<table border=\"1\" class=\"dataframe\">\n",
       "  <thead>\n",
       "    <tr style=\"text-align: right;\">\n",
       "      <th></th>\n",
       "      <th>captainid</th>\n",
       "      <th>registrationdate</th>\n",
       "      <th>registration_week</th>\n",
       "      <th>rider</th>\n",
       "      <th>orderdate</th>\n",
       "    </tr>\n",
       "  </thead>\n",
       "  <tbody>\n",
       "    <tr>\n",
       "      <th>0</th>\n",
       "      <td>5ff2a32b31243a24e8b04c19</td>\n",
       "      <td>2021-01-04</td>\n",
       "      <td>1</td>\n",
       "      <td>5ff2a32b31243a24e8b04c19</td>\n",
       "      <td>2021-01-29</td>\n",
       "    </tr>\n",
       "    <tr>\n",
       "      <th>1</th>\n",
       "      <td>5ff2a32b31243a24e8b04c19</td>\n",
       "      <td>2021-01-04</td>\n",
       "      <td>1</td>\n",
       "      <td>5ff2a32b31243a24e8b04c19</td>\n",
       "      <td>2021-03-14</td>\n",
       "    </tr>\n",
       "    <tr>\n",
       "      <th>2</th>\n",
       "      <td>5ff2a32b31243a24e8b04c19</td>\n",
       "      <td>2021-01-04</td>\n",
       "      <td>1</td>\n",
       "      <td>5ff2a32b31243a24e8b04c19</td>\n",
       "      <td>2021-02-14</td>\n",
       "    </tr>\n",
       "    <tr>\n",
       "      <th>3</th>\n",
       "      <td>5ff2a32b31243a24e8b04c19</td>\n",
       "      <td>2021-01-04</td>\n",
       "      <td>1</td>\n",
       "      <td>5ff2a32b31243a24e8b04c19</td>\n",
       "      <td>2021-01-26</td>\n",
       "    </tr>\n",
       "    <tr>\n",
       "      <th>4</th>\n",
       "      <td>5ff2a32b31243a24e8b04c19</td>\n",
       "      <td>2021-01-04</td>\n",
       "      <td>1</td>\n",
       "      <td>5ff2a32b31243a24e8b04c19</td>\n",
       "      <td>2021-01-12</td>\n",
       "    </tr>\n",
       "  </tbody>\n",
       "</table>\n",
       "</div>"
      ],
      "text/plain": [
       "                  captainid registrationdate  registration_week  \\\n",
       "0  5ff2a32b31243a24e8b04c19       2021-01-04                  1   \n",
       "1  5ff2a32b31243a24e8b04c19       2021-01-04                  1   \n",
       "2  5ff2a32b31243a24e8b04c19       2021-01-04                  1   \n",
       "3  5ff2a32b31243a24e8b04c19       2021-01-04                  1   \n",
       "4  5ff2a32b31243a24e8b04c19       2021-01-04                  1   \n",
       "\n",
       "                      rider   orderdate  \n",
       "0  5ff2a32b31243a24e8b04c19  2021-01-29  \n",
       "1  5ff2a32b31243a24e8b04c19  2021-03-14  \n",
       "2  5ff2a32b31243a24e8b04c19  2021-02-14  \n",
       "3  5ff2a32b31243a24e8b04c19  2021-01-26  \n",
       "4  5ff2a32b31243a24e8b04c19  2021-01-12  "
      ]
     },
     "execution_count": 22,
     "metadata": {},
     "output_type": "execute_result"
    }
   ],
   "source": [
    "df_captains = df_registered_captains.merge(df_rides, how = 'left', left_on = 'captainid', right_on = 'rider')\n",
    "df_captains.head()"
   ]
  },
  {
   "cell_type": "code",
   "execution_count": 23,
   "metadata": {
    "collapsed": true,
    "jupyter": {
     "outputs_hidden": true,
     "source_hidden": true
    }
   },
   "outputs": [
    {
     "data": {
      "text/html": [
       "<div>\n",
       "<style scoped>\n",
       "    .dataframe tbody tr th:only-of-type {\n",
       "        vertical-align: middle;\n",
       "    }\n",
       "\n",
       "    .dataframe tbody tr th {\n",
       "        vertical-align: top;\n",
       "    }\n",
       "\n",
       "    .dataframe thead th {\n",
       "        text-align: right;\n",
       "    }\n",
       "</style>\n",
       "<table border=\"1\" class=\"dataframe\">\n",
       "  <thead>\n",
       "    <tr style=\"text-align: right;\">\n",
       "      <th></th>\n",
       "      <th>captainid</th>\n",
       "      <th>registrationdate</th>\n",
       "      <th>week</th>\n",
       "      <th>rider</th>\n",
       "      <th>last_ride_date</th>\n",
       "      <th>last_ride_week</th>\n",
       "      <th>days_since_inactive</th>\n",
       "    </tr>\n",
       "  </thead>\n",
       "  <tbody>\n",
       "    <tr>\n",
       "      <th>0</th>\n",
       "      <td>5ff4a7ee31243a9564b15832</td>\n",
       "      <td>2021-01-05</td>\n",
       "      <td>1</td>\n",
       "      <td>5ff4a7ee31243a9564b15832</td>\n",
       "      <td>2021-02-08</td>\n",
       "      <td>6.0</td>\n",
       "      <td>82.0</td>\n",
       "    </tr>\n",
       "    <tr>\n",
       "      <th>1</th>\n",
       "      <td>5e13945b715b3f22b9691985</td>\n",
       "      <td>2021-01-29</td>\n",
       "      <td>4</td>\n",
       "      <td>5e13945b715b3f22b9691985</td>\n",
       "      <td>2021-04-30</td>\n",
       "      <td>17.0</td>\n",
       "      <td>1.0</td>\n",
       "    </tr>\n",
       "    <tr>\n",
       "      <th>2</th>\n",
       "      <td>5fd97da308e6155a61ca69dd</td>\n",
       "      <td>2021-01-28</td>\n",
       "      <td>4</td>\n",
       "      <td>5fd97da308e6155a61ca69dd</td>\n",
       "      <td>2021-02-15</td>\n",
       "      <td>7.0</td>\n",
       "      <td>75.0</td>\n",
       "    </tr>\n",
       "    <tr>\n",
       "      <th>3</th>\n",
       "      <td>5ff1424c4319a7f244bb236a</td>\n",
       "      <td>2021-01-03</td>\n",
       "      <td>53</td>\n",
       "      <td>5ff1424c4319a7f244bb236a</td>\n",
       "      <td>2021-03-22</td>\n",
       "      <td>12.0</td>\n",
       "      <td>40.0</td>\n",
       "    </tr>\n",
       "    <tr>\n",
       "      <th>4</th>\n",
       "      <td>600548e5e6c0de4eaaf650f4</td>\n",
       "      <td>2021-01-18</td>\n",
       "      <td>3</td>\n",
       "      <td>NaN</td>\n",
       "      <td>NaN</td>\n",
       "      <td>NaN</td>\n",
       "      <td>NaN</td>\n",
       "    </tr>\n",
       "  </tbody>\n",
       "</table>\n",
       "</div>"
      ],
      "text/plain": [
       "                  captainid registrationdate  week                     rider  \\\n",
       "0  5ff4a7ee31243a9564b15832       2021-01-05     1  5ff4a7ee31243a9564b15832   \n",
       "1  5e13945b715b3f22b9691985       2021-01-29     4  5e13945b715b3f22b9691985   \n",
       "2  5fd97da308e6155a61ca69dd       2021-01-28     4  5fd97da308e6155a61ca69dd   \n",
       "3  5ff1424c4319a7f244bb236a       2021-01-03    53  5ff1424c4319a7f244bb236a   \n",
       "4  600548e5e6c0de4eaaf650f4       2021-01-18     3                       NaN   \n",
       "\n",
       "  last_ride_date  last_ride_week  days_since_inactive  \n",
       "0     2021-02-08             6.0                 82.0  \n",
       "1     2021-04-30            17.0                  1.0  \n",
       "2     2021-02-15             7.0                 75.0  \n",
       "3     2021-03-22            12.0                 40.0  \n",
       "4            NaN             NaN                  NaN  "
      ]
     },
     "execution_count": 23,
     "metadata": {},
     "output_type": "execute_result"
    }
   ],
   "source": [
    "df_captains['days_since_inactive'] = df_captains['last_ride_date'].apply(lambda x : (pd.to_datetime('2021-05-01')-pd.to_datetime(x)).days)\n",
    "df_captains.head()"
   ]
  },
  {
   "cell_type": "code",
   "execution_count": 25,
   "metadata": {
    "jupyter": {
     "source_hidden": true
    }
   },
   "outputs": [],
   "source": [
    "start_date = '2021-05-01'\n",
    "end_date = '2021-07-31'"
   ]
  },
  {
   "cell_type": "code",
   "execution_count": 27,
   "metadata": {
    "collapsed": true,
    "jupyter": {
     "outputs_hidden": true,
     "source_hidden": true
    }
   },
   "outputs": [
    {
     "data": {
      "text/html": [
       "<div>\n",
       "<style scoped>\n",
       "    .dataframe tbody tr th:only-of-type {\n",
       "        vertical-align: middle;\n",
       "    }\n",
       "\n",
       "    .dataframe tbody tr th {\n",
       "        vertical-align: top;\n",
       "    }\n",
       "\n",
       "    .dataframe thead th {\n",
       "        text-align: right;\n",
       "    }\n",
       "</style>\n",
       "<table border=\"1\" class=\"dataframe\">\n",
       "  <thead>\n",
       "    <tr style=\"text-align: right;\">\n",
       "      <th></th>\n",
       "      <th>rider_2</th>\n",
       "      <th>last_ride_date_2</th>\n",
       "      <th>last_ride_week_2</th>\n",
       "    </tr>\n",
       "  </thead>\n",
       "  <tbody>\n",
       "    <tr>\n",
       "      <th>0</th>\n",
       "      <td>60e81056569b264dfe7437c8</td>\n",
       "      <td>2021-07-14</td>\n",
       "      <td>28</td>\n",
       "    </tr>\n",
       "    <tr>\n",
       "      <th>1</th>\n",
       "      <td>5d847fbd486b0b21476f97e8</td>\n",
       "      <td>2021-05-03</td>\n",
       "      <td>18</td>\n",
       "    </tr>\n",
       "    <tr>\n",
       "      <th>2</th>\n",
       "      <td>5f512c6f81724784009f7982</td>\n",
       "      <td>2021-07-07</td>\n",
       "      <td>27</td>\n",
       "    </tr>\n",
       "    <tr>\n",
       "      <th>3</th>\n",
       "      <td>5d1217d7d6cbfc6a9db2aa4e</td>\n",
       "      <td>2021-07-11</td>\n",
       "      <td>27</td>\n",
       "    </tr>\n",
       "    <tr>\n",
       "      <th>4</th>\n",
       "      <td>5c746bb4343a5357615e3397</td>\n",
       "      <td>2021-06-26</td>\n",
       "      <td>25</td>\n",
       "    </tr>\n",
       "  </tbody>\n",
       "</table>\n",
       "</div>"
      ],
      "text/plain": [
       "                    rider_2 last_ride_date_2  last_ride_week_2\n",
       "0  60e81056569b264dfe7437c8       2021-07-14                28\n",
       "1  5d847fbd486b0b21476f97e8       2021-05-03                18\n",
       "2  5f512c6f81724784009f7982       2021-07-07                27\n",
       "3  5d1217d7d6cbfc6a9db2aa4e       2021-07-11                27\n",
       "4  5c746bb4343a5357615e3397       2021-06-26                25"
      ]
     },
     "execution_count": 27,
     "metadata": {},
     "output_type": "execute_result"
    }
   ],
   "source": [
    "# Rides & Ratings\n",
    "\n",
    "rides_query = \"\"\"SELECT rider as rider_2,\n",
    "                    min(orderdate) as last_ride_date_2,\n",
    "                    min(week_of_year(date(orderdate))) as last_ride_week_2\n",
    "                    \n",
    "                    from legacy.orders\n",
    "                    where orderdate >= '{sd}'\n",
    "                    and orderdate <= '{ed}'\n",
    "                    and status = 'dropped'\n",
    "                    and spdfraud_flag != 1\n",
    "                    \n",
    "                    group by 1\"\"\".format(sd=start_date, ed= end_date)\n",
    "\n",
    "df_rides2 = pd.read_sql(rides_query, presto_conn)\n",
    "df_rides2.head()"
   ]
  },
  {
   "cell_type": "code",
   "execution_count": 29,
   "metadata": {
    "collapsed": true,
    "jupyter": {
     "outputs_hidden": true,
     "source_hidden": true
    }
   },
   "outputs": [
    {
     "data": {
      "text/html": [
       "<div>\n",
       "<style scoped>\n",
       "    .dataframe tbody tr th:only-of-type {\n",
       "        vertical-align: middle;\n",
       "    }\n",
       "\n",
       "    .dataframe tbody tr th {\n",
       "        vertical-align: top;\n",
       "    }\n",
       "\n",
       "    .dataframe thead th {\n",
       "        text-align: right;\n",
       "    }\n",
       "</style>\n",
       "<table border=\"1\" class=\"dataframe\">\n",
       "  <thead>\n",
       "    <tr style=\"text-align: right;\">\n",
       "      <th></th>\n",
       "      <th>captainid</th>\n",
       "      <th>registrationdate</th>\n",
       "      <th>week</th>\n",
       "      <th>rider</th>\n",
       "      <th>last_ride_date</th>\n",
       "      <th>last_ride_week</th>\n",
       "      <th>days_since_inactive</th>\n",
       "      <th>rider_2</th>\n",
       "      <th>last_ride_date_2</th>\n",
       "      <th>last_ride_week_2</th>\n",
       "    </tr>\n",
       "  </thead>\n",
       "  <tbody>\n",
       "    <tr>\n",
       "      <th>0</th>\n",
       "      <td>5ff4a7ee31243a9564b15832</td>\n",
       "      <td>2021-01-05</td>\n",
       "      <td>1</td>\n",
       "      <td>5ff4a7ee31243a9564b15832</td>\n",
       "      <td>2021-02-08</td>\n",
       "      <td>6.0</td>\n",
       "      <td>82.0</td>\n",
       "      <td>NaN</td>\n",
       "      <td>NaN</td>\n",
       "      <td>NaN</td>\n",
       "    </tr>\n",
       "    <tr>\n",
       "      <th>1</th>\n",
       "      <td>5e13945b715b3f22b9691985</td>\n",
       "      <td>2021-01-29</td>\n",
       "      <td>4</td>\n",
       "      <td>5e13945b715b3f22b9691985</td>\n",
       "      <td>2021-04-30</td>\n",
       "      <td>17.0</td>\n",
       "      <td>1.0</td>\n",
       "      <td>5e13945b715b3f22b9691985</td>\n",
       "      <td>2021-05-01</td>\n",
       "      <td>17.0</td>\n",
       "    </tr>\n",
       "    <tr>\n",
       "      <th>2</th>\n",
       "      <td>5fd97da308e6155a61ca69dd</td>\n",
       "      <td>2021-01-28</td>\n",
       "      <td>4</td>\n",
       "      <td>5fd97da308e6155a61ca69dd</td>\n",
       "      <td>2021-02-15</td>\n",
       "      <td>7.0</td>\n",
       "      <td>75.0</td>\n",
       "      <td>NaN</td>\n",
       "      <td>NaN</td>\n",
       "      <td>NaN</td>\n",
       "    </tr>\n",
       "    <tr>\n",
       "      <th>3</th>\n",
       "      <td>5ff1424c4319a7f244bb236a</td>\n",
       "      <td>2021-01-03</td>\n",
       "      <td>53</td>\n",
       "      <td>5ff1424c4319a7f244bb236a</td>\n",
       "      <td>2021-03-22</td>\n",
       "      <td>12.0</td>\n",
       "      <td>40.0</td>\n",
       "      <td>5ff1424c4319a7f244bb236a</td>\n",
       "      <td>2021-05-25</td>\n",
       "      <td>21.0</td>\n",
       "    </tr>\n",
       "    <tr>\n",
       "      <th>4</th>\n",
       "      <td>600548e5e6c0de4eaaf650f4</td>\n",
       "      <td>2021-01-18</td>\n",
       "      <td>3</td>\n",
       "      <td>NaN</td>\n",
       "      <td>NaN</td>\n",
       "      <td>NaN</td>\n",
       "      <td>NaN</td>\n",
       "      <td>NaN</td>\n",
       "      <td>NaN</td>\n",
       "      <td>NaN</td>\n",
       "    </tr>\n",
       "  </tbody>\n",
       "</table>\n",
       "</div>"
      ],
      "text/plain": [
       "                  captainid registrationdate  week                     rider  \\\n",
       "0  5ff4a7ee31243a9564b15832       2021-01-05     1  5ff4a7ee31243a9564b15832   \n",
       "1  5e13945b715b3f22b9691985       2021-01-29     4  5e13945b715b3f22b9691985   \n",
       "2  5fd97da308e6155a61ca69dd       2021-01-28     4  5fd97da308e6155a61ca69dd   \n",
       "3  5ff1424c4319a7f244bb236a       2021-01-03    53  5ff1424c4319a7f244bb236a   \n",
       "4  600548e5e6c0de4eaaf650f4       2021-01-18     3                       NaN   \n",
       "\n",
       "  last_ride_date  last_ride_week  days_since_inactive  \\\n",
       "0     2021-02-08             6.0                 82.0   \n",
       "1     2021-04-30            17.0                  1.0   \n",
       "2     2021-02-15             7.0                 75.0   \n",
       "3     2021-03-22            12.0                 40.0   \n",
       "4            NaN             NaN                  NaN   \n",
       "\n",
       "                    rider_2 last_ride_date_2  last_ride_week_2  \n",
       "0                       NaN              NaN               NaN  \n",
       "1  5e13945b715b3f22b9691985       2021-05-01              17.0  \n",
       "2                       NaN              NaN               NaN  \n",
       "3  5ff1424c4319a7f244bb236a       2021-05-25              21.0  \n",
       "4                       NaN              NaN               NaN  "
      ]
     },
     "execution_count": 29,
     "metadata": {},
     "output_type": "execute_result"
    }
   ],
   "source": [
    "df_captains = df_captains.merge(df_rides2, how = 'left', left_on = 'captainid', right_on = 'rider_2')\n",
    "df_captains.head()"
   ]
  },
  {
   "cell_type": "code",
   "execution_count": 31,
   "metadata": {
    "collapsed": true,
    "jupyter": {
     "outputs_hidden": true,
     "source_hidden": true
    }
   },
   "outputs": [
    {
     "data": {
      "text/html": [
       "<div>\n",
       "<style scoped>\n",
       "    .dataframe tbody tr th:only-of-type {\n",
       "        vertical-align: middle;\n",
       "    }\n",
       "\n",
       "    .dataframe tbody tr th {\n",
       "        vertical-align: top;\n",
       "    }\n",
       "\n",
       "    .dataframe thead th {\n",
       "        text-align: right;\n",
       "    }\n",
       "</style>\n",
       "<table border=\"1\" class=\"dataframe\">\n",
       "  <thead>\n",
       "    <tr style=\"text-align: right;\">\n",
       "      <th></th>\n",
       "      <th>captainid</th>\n",
       "      <th>registrationdate</th>\n",
       "      <th>week</th>\n",
       "      <th>rider</th>\n",
       "      <th>last_ride_date</th>\n",
       "      <th>last_ride_week</th>\n",
       "      <th>days_since_inactive</th>\n",
       "      <th>rider_2</th>\n",
       "      <th>last_ride_date_2</th>\n",
       "      <th>last_ride_week_2</th>\n",
       "      <th>days_since_inactive_2</th>\n",
       "      <th>retention</th>\n",
       "    </tr>\n",
       "  </thead>\n",
       "  <tbody>\n",
       "    <tr>\n",
       "      <th>0</th>\n",
       "      <td>5ff4a7ee31243a9564b15832</td>\n",
       "      <td>2021-01-05</td>\n",
       "      <td>1</td>\n",
       "      <td>5ff4a7ee31243a9564b15832</td>\n",
       "      <td>2021-02-08</td>\n",
       "      <td>6.0</td>\n",
       "      <td>82.0</td>\n",
       "      <td>NaN</td>\n",
       "      <td>NaN</td>\n",
       "      <td>NaN</td>\n",
       "      <td>NaN</td>\n",
       "      <td>0</td>\n",
       "    </tr>\n",
       "    <tr>\n",
       "      <th>1</th>\n",
       "      <td>5e13945b715b3f22b9691985</td>\n",
       "      <td>2021-01-29</td>\n",
       "      <td>4</td>\n",
       "      <td>5e13945b715b3f22b9691985</td>\n",
       "      <td>2021-04-30</td>\n",
       "      <td>17.0</td>\n",
       "      <td>1.0</td>\n",
       "      <td>5e13945b715b3f22b9691985</td>\n",
       "      <td>2021-05-01</td>\n",
       "      <td>17.0</td>\n",
       "      <td>1.0</td>\n",
       "      <td>1</td>\n",
       "    </tr>\n",
       "    <tr>\n",
       "      <th>2</th>\n",
       "      <td>5fd97da308e6155a61ca69dd</td>\n",
       "      <td>2021-01-28</td>\n",
       "      <td>4</td>\n",
       "      <td>5fd97da308e6155a61ca69dd</td>\n",
       "      <td>2021-02-15</td>\n",
       "      <td>7.0</td>\n",
       "      <td>75.0</td>\n",
       "      <td>NaN</td>\n",
       "      <td>NaN</td>\n",
       "      <td>NaN</td>\n",
       "      <td>NaN</td>\n",
       "      <td>0</td>\n",
       "    </tr>\n",
       "    <tr>\n",
       "      <th>3</th>\n",
       "      <td>5ff1424c4319a7f244bb236a</td>\n",
       "      <td>2021-01-03</td>\n",
       "      <td>53</td>\n",
       "      <td>5ff1424c4319a7f244bb236a</td>\n",
       "      <td>2021-03-22</td>\n",
       "      <td>12.0</td>\n",
       "      <td>40.0</td>\n",
       "      <td>5ff1424c4319a7f244bb236a</td>\n",
       "      <td>2021-05-25</td>\n",
       "      <td>21.0</td>\n",
       "      <td>64.0</td>\n",
       "      <td>1</td>\n",
       "    </tr>\n",
       "    <tr>\n",
       "      <th>4</th>\n",
       "      <td>600548e5e6c0de4eaaf650f4</td>\n",
       "      <td>2021-01-18</td>\n",
       "      <td>3</td>\n",
       "      <td>NaN</td>\n",
       "      <td>NaN</td>\n",
       "      <td>NaN</td>\n",
       "      <td>NaN</td>\n",
       "      <td>NaN</td>\n",
       "      <td>NaN</td>\n",
       "      <td>NaN</td>\n",
       "      <td>NaN</td>\n",
       "      <td>0</td>\n",
       "    </tr>\n",
       "  </tbody>\n",
       "</table>\n",
       "</div>"
      ],
      "text/plain": [
       "                  captainid registrationdate  week                     rider  \\\n",
       "0  5ff4a7ee31243a9564b15832       2021-01-05     1  5ff4a7ee31243a9564b15832   \n",
       "1  5e13945b715b3f22b9691985       2021-01-29     4  5e13945b715b3f22b9691985   \n",
       "2  5fd97da308e6155a61ca69dd       2021-01-28     4  5fd97da308e6155a61ca69dd   \n",
       "3  5ff1424c4319a7f244bb236a       2021-01-03    53  5ff1424c4319a7f244bb236a   \n",
       "4  600548e5e6c0de4eaaf650f4       2021-01-18     3                       NaN   \n",
       "\n",
       "  last_ride_date  last_ride_week  days_since_inactive  \\\n",
       "0     2021-02-08             6.0                 82.0   \n",
       "1     2021-04-30            17.0                  1.0   \n",
       "2     2021-02-15             7.0                 75.0   \n",
       "3     2021-03-22            12.0                 40.0   \n",
       "4            NaN             NaN                  NaN   \n",
       "\n",
       "                    rider_2 last_ride_date_2  last_ride_week_2  \\\n",
       "0                       NaN              NaN               NaN   \n",
       "1  5e13945b715b3f22b9691985       2021-05-01              17.0   \n",
       "2                       NaN              NaN               NaN   \n",
       "3  5ff1424c4319a7f244bb236a       2021-05-25              21.0   \n",
       "4                       NaN              NaN               NaN   \n",
       "\n",
       "   days_since_inactive_2  retention  \n",
       "0                    NaN          0  \n",
       "1                    1.0          1  \n",
       "2                    NaN          0  \n",
       "3                   64.0          1  \n",
       "4                    NaN          0  "
      ]
     },
     "execution_count": 31,
     "metadata": {},
     "output_type": "execute_result"
    }
   ],
   "source": [
    "df_captains['days_since_inactive_2'] = df_captains.apply(lambda x : (pd.to_datetime(x['last_ride_date_2'])-pd.to_datetime(x['last_ride_date'])).days, axis = 1)\n",
    "df_captains['retention'] = df_captains['last_ride_date_2'].apply(lambda x : 0 if pd.isna(x) else 1)\n",
    "df_captains.head()"
   ]
  },
  {
   "cell_type": "code",
   "execution_count": 33,
   "metadata": {
    "jupyter": {
     "source_hidden": true
    }
   },
   "outputs": [],
   "source": [
    "df_captains.to_csv('x.csv', index=False)"
   ]
  },
  {
   "cell_type": "code",
   "execution_count": 32,
   "metadata": {
    "jupyter": {
     "source_hidden": true
    }
   },
   "outputs": [],
   "source": [
    "df_temp = df_captains.copy()\n",
    "df_temp = df_temp[df_temp['last_ride_date'].notna()]"
   ]
  },
  {
   "cell_type": "code",
   "execution_count": null,
   "metadata": {
    "jupyter": {
     "source_hidden": true
    }
   },
   "outputs": [],
   "source": [
    "plt.hist(df_temp['days_since_inactive'], bins = range(df_reinstalled['day_diff'].min(),df_reinstalled['day_diff'].max()+1))\n",
    "plt.show()"
   ]
  },
  {
   "cell_type": "code",
   "execution_count": null,
   "metadata": {},
   "outputs": [],
   "source": []
  },
  {
   "cell_type": "code",
   "execution_count": null,
   "metadata": {},
   "outputs": [],
   "source": []
  },
  {
   "cell_type": "code",
   "execution_count": 23,
   "metadata": {},
   "outputs": [],
   "source": [
    "df_captains['day_diff'] = df_captains.apply(lambda x : (pd.to_datetime(x['orderdate'])-pd.to_datetime(x['registrationdate'])).days, axis=1)\n",
    "df_captains['week_diff'] = df_captains['day_diff'].apply(lambda x : x//7 if x%7==0 else x//7+1)\n",
    "df_captains.head()"
   ]
  },
  {
   "cell_type": "code",
   "execution_count": 24,
   "metadata": {},
   "outputs": [
    {
     "data": {
      "text/html": [
       "<div>\n",
       "<style scoped>\n",
       "    .dataframe tbody tr th:only-of-type {\n",
       "        vertical-align: middle;\n",
       "    }\n",
       "\n",
       "    .dataframe tbody tr th {\n",
       "        vertical-align: top;\n",
       "    }\n",
       "\n",
       "    .dataframe thead th {\n",
       "        text-align: right;\n",
       "    }\n",
       "</style>\n",
       "<table border=\"1\" class=\"dataframe\">\n",
       "  <thead>\n",
       "    <tr style=\"text-align: right;\">\n",
       "      <th></th>\n",
       "      <th>captainid</th>\n",
       "      <th>registrationdate</th>\n",
       "      <th>registration_week</th>\n",
       "      <th>rider</th>\n",
       "      <th>orderdate</th>\n",
       "      <th>day_diff</th>\n",
       "      <th>week_diff</th>\n",
       "    </tr>\n",
       "  </thead>\n",
       "  <tbody>\n",
       "    <tr>\n",
       "      <th>0</th>\n",
       "      <td>5ff2a32b31243a24e8b04c19</td>\n",
       "      <td>2021-01-04</td>\n",
       "      <td>1</td>\n",
       "      <td>5ff2a32b31243a24e8b04c19</td>\n",
       "      <td>2021-01-29</td>\n",
       "      <td>25.0</td>\n",
       "      <td>4.0</td>\n",
       "    </tr>\n",
       "    <tr>\n",
       "      <th>1</th>\n",
       "      <td>5ff2a32b31243a24e8b04c19</td>\n",
       "      <td>2021-01-04</td>\n",
       "      <td>1</td>\n",
       "      <td>5ff2a32b31243a24e8b04c19</td>\n",
       "      <td>2021-03-14</td>\n",
       "      <td>69.0</td>\n",
       "      <td>10.0</td>\n",
       "    </tr>\n",
       "    <tr>\n",
       "      <th>2</th>\n",
       "      <td>5ff2a32b31243a24e8b04c19</td>\n",
       "      <td>2021-01-04</td>\n",
       "      <td>1</td>\n",
       "      <td>5ff2a32b31243a24e8b04c19</td>\n",
       "      <td>2021-02-14</td>\n",
       "      <td>41.0</td>\n",
       "      <td>6.0</td>\n",
       "    </tr>\n",
       "    <tr>\n",
       "      <th>3</th>\n",
       "      <td>5ff2a32b31243a24e8b04c19</td>\n",
       "      <td>2021-01-04</td>\n",
       "      <td>1</td>\n",
       "      <td>5ff2a32b31243a24e8b04c19</td>\n",
       "      <td>2021-01-26</td>\n",
       "      <td>22.0</td>\n",
       "      <td>4.0</td>\n",
       "    </tr>\n",
       "    <tr>\n",
       "      <th>4</th>\n",
       "      <td>5ff2a32b31243a24e8b04c19</td>\n",
       "      <td>2021-01-04</td>\n",
       "      <td>1</td>\n",
       "      <td>5ff2a32b31243a24e8b04c19</td>\n",
       "      <td>2021-01-12</td>\n",
       "      <td>8.0</td>\n",
       "      <td>2.0</td>\n",
       "    </tr>\n",
       "  </tbody>\n",
       "</table>\n",
       "</div>"
      ],
      "text/plain": [
       "                  captainid registrationdate  registration_week  \\\n",
       "0  5ff2a32b31243a24e8b04c19       2021-01-04                  1   \n",
       "1  5ff2a32b31243a24e8b04c19       2021-01-04                  1   \n",
       "2  5ff2a32b31243a24e8b04c19       2021-01-04                  1   \n",
       "3  5ff2a32b31243a24e8b04c19       2021-01-04                  1   \n",
       "4  5ff2a32b31243a24e8b04c19       2021-01-04                  1   \n",
       "\n",
       "                      rider   orderdate  day_diff  week_diff  \n",
       "0  5ff2a32b31243a24e8b04c19  2021-01-29      25.0        4.0  \n",
       "1  5ff2a32b31243a24e8b04c19  2021-03-14      69.0       10.0  \n",
       "2  5ff2a32b31243a24e8b04c19  2021-02-14      41.0        6.0  \n",
       "3  5ff2a32b31243a24e8b04c19  2021-01-26      22.0        4.0  \n",
       "4  5ff2a32b31243a24e8b04c19  2021-01-12       8.0        2.0  "
      ]
     },
     "execution_count": 24,
     "metadata": {},
     "output_type": "execute_result"
    }
   ],
   "source": [
    "df_captains.to_csv('nth_day_retention_data.csv', index=False)\n",
    "df_captains.head()"
   ]
  },
  {
   "cell_type": "code",
   "execution_count": 40,
   "metadata": {},
   "outputs": [
    {
     "data": {
      "text/html": [
       "<div>\n",
       "<style scoped>\n",
       "    .dataframe tbody tr th:only-of-type {\n",
       "        vertical-align: middle;\n",
       "    }\n",
       "\n",
       "    .dataframe tbody tr th {\n",
       "        vertical-align: top;\n",
       "    }\n",
       "\n",
       "    .dataframe thead th {\n",
       "        text-align: right;\n",
       "    }\n",
       "</style>\n",
       "<table border=\"1\" class=\"dataframe\">\n",
       "  <thead>\n",
       "    <tr style=\"text-align: right;\">\n",
       "      <th></th>\n",
       "      <th>captainid</th>\n",
       "      <th>registrationdate</th>\n",
       "      <th>registration_week</th>\n",
       "      <th>rider</th>\n",
       "      <th>orderdate</th>\n",
       "      <th>day_diff</th>\n",
       "      <th>week_diff</th>\n",
       "    </tr>\n",
       "  </thead>\n",
       "  <tbody>\n",
       "    <tr>\n",
       "      <th>0</th>\n",
       "      <td>5ff2a32b31243a24e8b04c19</td>\n",
       "      <td>2021-01-04</td>\n",
       "      <td>1</td>\n",
       "      <td>5ff2a32b31243a24e8b04c19</td>\n",
       "      <td>2021-01-29</td>\n",
       "      <td>25.0</td>\n",
       "      <td>4.0</td>\n",
       "    </tr>\n",
       "    <tr>\n",
       "      <th>1</th>\n",
       "      <td>5ff2a32b31243a24e8b04c19</td>\n",
       "      <td>2021-01-04</td>\n",
       "      <td>1</td>\n",
       "      <td>5ff2a32b31243a24e8b04c19</td>\n",
       "      <td>2021-03-14</td>\n",
       "      <td>69.0</td>\n",
       "      <td>10.0</td>\n",
       "    </tr>\n",
       "    <tr>\n",
       "      <th>2</th>\n",
       "      <td>5ff2a32b31243a24e8b04c19</td>\n",
       "      <td>2021-01-04</td>\n",
       "      <td>1</td>\n",
       "      <td>5ff2a32b31243a24e8b04c19</td>\n",
       "      <td>2021-02-14</td>\n",
       "      <td>41.0</td>\n",
       "      <td>6.0</td>\n",
       "    </tr>\n",
       "    <tr>\n",
       "      <th>3</th>\n",
       "      <td>5ff2a32b31243a24e8b04c19</td>\n",
       "      <td>2021-01-04</td>\n",
       "      <td>1</td>\n",
       "      <td>5ff2a32b31243a24e8b04c19</td>\n",
       "      <td>2021-01-26</td>\n",
       "      <td>22.0</td>\n",
       "      <td>4.0</td>\n",
       "    </tr>\n",
       "    <tr>\n",
       "      <th>4</th>\n",
       "      <td>5ff2a32b31243a24e8b04c19</td>\n",
       "      <td>2021-01-04</td>\n",
       "      <td>1</td>\n",
       "      <td>5ff2a32b31243a24e8b04c19</td>\n",
       "      <td>2021-01-12</td>\n",
       "      <td>8.0</td>\n",
       "      <td>2.0</td>\n",
       "    </tr>\n",
       "  </tbody>\n",
       "</table>\n",
       "</div>"
      ],
      "text/plain": [
       "                  captainid registrationdate  registration_week  \\\n",
       "0  5ff2a32b31243a24e8b04c19       2021-01-04                  1   \n",
       "1  5ff2a32b31243a24e8b04c19       2021-01-04                  1   \n",
       "2  5ff2a32b31243a24e8b04c19       2021-01-04                  1   \n",
       "3  5ff2a32b31243a24e8b04c19       2021-01-04                  1   \n",
       "4  5ff2a32b31243a24e8b04c19       2021-01-04                  1   \n",
       "\n",
       "                      rider   orderdate  day_diff  week_diff  \n",
       "0  5ff2a32b31243a24e8b04c19  2021-01-29      25.0        4.0  \n",
       "1  5ff2a32b31243a24e8b04c19  2021-03-14      69.0       10.0  \n",
       "2  5ff2a32b31243a24e8b04c19  2021-02-14      41.0        6.0  \n",
       "3  5ff2a32b31243a24e8b04c19  2021-01-26      22.0        4.0  \n",
       "4  5ff2a32b31243a24e8b04c19  2021-01-12       8.0        2.0  "
      ]
     },
     "execution_count": 40,
     "metadata": {},
     "output_type": "execute_result"
    }
   ],
   "source": [
    "df_captains = pd.read_csv('nth_day_retention_data.csv')\n",
    "df_captains.head()"
   ]
  },
  {
   "cell_type": "code",
   "execution_count": 50,
   "metadata": {
    "jupyter": {
     "source_hidden": true
    }
   },
   "outputs": [
    {
     "data": {
      "image/png": "[encoded data removed]",
      "text/plain": [
       "<Figure size 2160x720 with 1 Axes>"
      ]
     },
     "metadata": {
      "needs_background": "light"
     },
     "output_type": "display_data"
    }
   ],
   "source": [
    "df_temp = df_captains[df_captains['registration_week']==1]\n",
    "y = []\n",
    "for day in np.sort(df_temp['day_diff'].unique()):\n",
    "    y.append(round(df_temp[df_temp['day_diff']==day]['rider'].nunique()/df_temp['captainid'].nunique()*100,0))\n",
    "\n",
    "N = df_temp['day_diff'].nunique()+1\n",
    "ind = np.arange(N)  # the x locations for the groups\n",
    "width = 0.3       # the width of the bars\n",
    "\n",
    "fig = plt.figure(figsize=(30, 10))\n",
    "ax = fig.add_subplot(111)\n",
    "\n",
    "rects1 = ax.bar(ind, y, width, color='r', label = 'Test')\n",
    "\n",
    "\n",
    "ax.set_xticklabels(np.sort(df_temp['day_diff'].unique()))\n",
    "ax.set_ylabel('Week')\n",
    "ax.set_ylabel('Retention %')\n",
    "ax.set_xticks(ind+width)\n",
    "#ax.set_xticklabels( ('2011-Jan-4', '2011-Jan-5', '2011-Jan-6') )\n",
    "ax.legend()\n",
    "\n",
    "def autolabel(rects):\n",
    "    for rect in rects:\n",
    "        h = rect.get_height()\n",
    "        ax.text(rect.get_x()+rect.get_width()/2., 1.05*h, '%d'%int(rect.get_x()+1),\n",
    "                ha='center', va='bottom')\n",
    "\n",
    "autolabel(rects1)\n",
    "\n",
    "\n",
    "plt.show()"
   ]
  },
  {
   "cell_type": "code",
   "execution_count": 107,
   "metadata": {
    "jupyter": {
     "source_hidden": true
    }
   },
   "outputs": [
    {
     "data": {
      "image/png": "[encoded data removed]",
      "text/plain": [
       "<Figure size 2160x720 with 1 Axes>"
      ]
     },
     "metadata": {
      "needs_background": "light"
     },
     "output_type": "display_data"
    }
   ],
   "source": [
    "df_temp = df_captains[df_captains['registration_week']==2]\n",
    "y = []\n",
    "for day in np.sort(df_temp['day_diff'].unique()):\n",
    "    y.append(round(df_temp[df_temp['day_diff']==day]['rider'].nunique()/df_temp['captainid'].nunique()*100,0))\n",
    "\n",
    "N = df_temp['day_diff'].nunique()+1\n",
    "ind = np.arange(N)  # the x locations for the groups\n",
    "width = 0.3       # the width of the bars\n",
    "\n",
    "fig = plt.figure(figsize=(30, 10))\n",
    "ax = fig.add_subplot(111)\n",
    "\n",
    "rects1 = ax.bar(ind, y, width, color='r', label = 'Test')\n",
    "\n",
    "\n",
    "ax.set_xticklabels(np.sort(df_temp['day_diff'].unique()))\n",
    "ax.set_ylabel('Week')\n",
    "ax.set_ylabel('Retention %')\n",
    "ax.set_xticks(ind+width)\n",
    "#ax.set_xticklabels( ('2011-Jan-4', '2011-Jan-5', '2011-Jan-6') )\n",
    "ax.legend()\n",
    "\n",
    "def autolabel(rects):\n",
    "    for rect in rects:\n",
    "        h = rect.get_height()\n",
    "        ax.text(rect.get_x()+rect.get_width()/2., 1.05*h, '%d'%int(rect.get_x()+1),\n",
    "                ha='center', va='bottom')\n",
    "\n",
    "autolabel(rects1)\n",
    "\n",
    "\n",
    "plt.show()"
   ]
  },
  {
   "cell_type": "code",
   "execution_count": 108,
   "metadata": {
    "jupyter": {
     "source_hidden": true
    }
   },
   "outputs": [
    {
     "data": {
      "image/png": "[encoded data removed]",
      "text/plain": [
       "<Figure size 2160x720 with 1 Axes>"
      ]
     },
     "metadata": {
      "needs_background": "light"
     },
     "output_type": "display_data"
    }
   ],
   "source": [
    "df_temp = df_captains[df_captains['registration_week']==3]\n",
    "y = []\n",
    "for day in np.sort(df_temp['day_diff'].unique()):\n",
    "    y.append(round(df_temp[df_temp['day_diff']==day]['rider'].nunique()/df_temp['captainid'].nunique()*100,0))\n",
    "\n",
    "N = df_temp['day_diff'].nunique()+1\n",
    "ind = np.arange(N)  # the x locations for the groups\n",
    "width = 0.3       # the width of the bars\n",
    "\n",
    "fig = plt.figure(figsize=(30, 10))\n",
    "ax = fig.add_subplot(111)\n",
    "\n",
    "rects1 = ax.bar(ind, y, width, color='r', label = 'Test')\n",
    "\n",
    "\n",
    "ax.set_xticklabels(np.sort(df_temp['day_diff'].unique()))\n",
    "ax.set_ylabel('Week')\n",
    "ax.set_ylabel('Retention %')\n",
    "ax.set_xticks(ind+width)\n",
    "#ax.set_xticklabels( ('2011-Jan-4', '2011-Jan-5', '2011-Jan-6') )\n",
    "ax.legend()\n",
    "\n",
    "def autolabel(rects):\n",
    "    for rect in rects:\n",
    "        h = rect.get_height()\n",
    "        ax.text(rect.get_x()+rect.get_width()/2., 1.05*h, '%d'%int(rect.get_x()+1),\n",
    "                ha='center', va='bottom')\n",
    "\n",
    "autolabel(rects1)\n",
    "\n",
    "\n",
    "plt.show()"
   ]
  },
  {
   "cell_type": "code",
   "execution_count": 109,
   "metadata": {
    "jupyter": {
     "source_hidden": true
    }
   },
   "outputs": [
    {
     "data": {
      "image/png": "[encoded data removed]",
      "text/plain": [
       "<Figure size 2160x720 with 1 Axes>"
      ]
     },
     "metadata": {
      "needs_background": "light"
     },
     "output_type": "display_data"
    }
   ],
   "source": [
    "df_temp = df_captains[df_captains['registration_week']==4]\n",
    "y = []\n",
    "for day in np.sort(df_temp['day_diff'].unique()):\n",
    "    y.append(round(df_temp[df_temp['day_diff']==day]['rider'].nunique()/df_temp['captainid'].nunique()*100,0))\n",
    "\n",
    "N = df_temp['day_diff'].nunique()+1\n",
    "ind = np.arange(N)  # the x locations for the groups\n",
    "width = 0.3       # the width of the bars\n",
    "\n",
    "fig = plt.figure(figsize=(30, 10))\n",
    "ax = fig.add_subplot(111)\n",
    "\n",
    "rects1 = ax.bar(ind, y, width, color='r', label = 'Test')\n",
    "\n",
    "\n",
    "ax.set_xticklabels(np.sort(df_temp['day_diff'].unique()))\n",
    "ax.set_ylabel('Week')\n",
    "ax.set_ylabel('Retention %')\n",
    "ax.set_xticks(ind+width)\n",
    "#ax.set_xticklabels( ('2011-Jan-4', '2011-Jan-5', '2011-Jan-6') )\n",
    "ax.legend()\n",
    "\n",
    "def autolabel(rects):\n",
    "    for rect in rects:\n",
    "        h = rect.get_height()\n",
    "        ax.text(rect.get_x()+rect.get_width()/2., 1.05*h, '%d'%int(rect.get_x()+1),\n",
    "                ha='center', va='bottom')\n",
    "\n",
    "autolabel(rects1)\n",
    "\n",
    "\n",
    "plt.show()"
   ]
  },
  {
   "cell_type": "code",
   "execution_count": 110,
   "metadata": {
    "jupyter": {
     "source_hidden": true
    }
   },
   "outputs": [
    {
     "data": {
      "image/png": "[encoded data removed]",
      "text/plain": [
       "<Figure size 2160x720 with 1 Axes>"
      ]
     },
     "metadata": {
      "needs_background": "light"
     },
     "output_type": "display_data"
    }
   ],
   "source": [
    "df_temp = df_captains.copy()\n",
    "y = []\n",
    "for day in np.sort(df_temp['day_diff'].unique()):\n",
    "    y.append(round(df_temp[df_temp['day_diff']==day]['rider'].nunique()/df_temp['captainid'].nunique()*100,0))\n",
    "\n",
    "N = df_temp['day_diff'].nunique()+1\n",
    "ind = np.arange(N)  # the x locations for the groups\n",
    "width = 0.3       # the width of the bars\n",
    "\n",
    "fig = plt.figure(figsize=(30, 10))\n",
    "ax = fig.add_subplot(111)\n",
    "\n",
    "rects1 = ax.bar(ind, y, width, color='r', label = 'Test')\n",
    "\n",
    "\n",
    "ax.set_xticklabels(np.sort(df_temp['day_diff'].unique()))\n",
    "ax.set_ylabel('Week')\n",
    "ax.set_ylabel('Retention %')\n",
    "ax.set_xticks(ind+width)\n",
    "#ax.set_xticklabels( ('2011-Jan-4', '2011-Jan-5', '2011-Jan-6') )\n",
    "ax.legend()\n",
    "\n",
    "def autolabel(rects):\n",
    "    for rect in rects:\n",
    "        h = rect.get_height()\n",
    "        ax.text(rect.get_x()+rect.get_width()/2., 1.05*h, '%d'%int(rect.get_x()+1),\n",
    "                ha='center', va='bottom')\n",
    "\n",
    "autolabel(rects1)\n",
    "\n",
    "\n",
    "plt.show()"
   ]
  },
  {
   "cell_type": "code",
   "execution_count": 111,
   "metadata": {
    "collapsed": true,
    "jupyter": {
     "outputs_hidden": true,
     "source_hidden": true
    }
   },
   "outputs": [
    {
     "data": {
      "image/png": "[encoded data removed]",
      "text/plain": [
       "<Figure size 1440x720 with 1 Axes>"
      ]
     },
     "metadata": {
      "needs_background": "light"
     },
     "output_type": "display_data"
    }
   ],
   "source": [
    "df_temp = df_captains.copy()\n",
    "y = []\n",
    "for day in np.sort(df_temp['week_diff'].unique()):\n",
    "    y.append(round(df_temp[df_temp['week_diff']==day]['rider'].nunique()/df_temp['captainid'].nunique()*100,0))\n",
    "\n",
    "N = df_temp['week_diff'].nunique()+1\n",
    "ind = np.arange(N)  # the x locations for the groups\n",
    "width = 0.3       # the width of the bars\n",
    "\n",
    "fig = plt.figure(figsize=(20, 10))\n",
    "ax = fig.add_subplot(111)\n",
    "\n",
    "rects1 = ax.bar(ind, y, width, color='r', label = 'Test')\n",
    "\n",
    "\n",
    "ax.set_xticklabels(np.sort(df_temp['week_diff'].unique()))\n",
    "ax.set_ylabel('Week')\n",
    "ax.set_ylabel('Retention %')\n",
    "ax.set_xticks(ind+width)\n",
    "#ax.set_xticklabels( ('2011-Jan-4', '2011-Jan-5', '2011-Jan-6') )\n",
    "ax.legend()\n",
    "\n",
    "def autolabel(rects):\n",
    "    for rect in rects:\n",
    "        h = rect.get_height()\n",
    "        ax.text(rect.get_x()+rect.get_width()/2., 1.05*h, '%d'%int(h),\n",
    "                ha='center', va='bottom')\n",
    "\n",
    "autolabel(rects1)\n",
    "\n",
    "\n",
    "plt.show()"
   ]
  },
  {
   "cell_type": "code",
   "execution_count": 28,
   "metadata": {},
   "outputs": [
    {
     "data": {
      "image/png": "[encoded data removed]",
      "text/plain": [
       "<Figure size 1600x800 with 1 Axes>"
      ]
     },
     "metadata": {
      "needs_background": "light"
     },
     "output_type": "display_data"
    }
   ],
   "source": [
    "df_temp = df_captains[df_captains['day_diff'].notna()]\n",
    "X5=df_temp.loc[:,['day_diff']].values\n",
    "from sklearn.cluster import KMeans\n",
    "wcss=[]\n",
    "for k in range (1,11):\n",
    "    kmeans=KMeans(n_clusters=k,init=\"k-means++\")\n",
    "    kmeans.fit(X5)\n",
    "    wcss.append(kmeans.inertia_)\n",
    "fig = plt.figure(figsize=(20, 10), dpi=80)\n",
    "plt.grid()\n",
    "plt.plot(range(1,11),wcss,linewidth=2,color=\"red\",marker=\"8\")\n",
    "plt.xlabel(\"K-values\")\n",
    "plt.ylabel(\"WCSS\")\n",
    "plt.show()"
   ]
  },
  {
   "cell_type": "code",
   "execution_count": 37,
   "metadata": {},
   "outputs": [
    {
     "name": "stdout",
     "output_type": "stream",
     "text": [
      "[[32.79915596]\n",
      " [83.9707307 ]\n",
      " [10.02940605]\n",
      " [57.53360781]]\n"
     ]
    }
   ],
   "source": [
    "centroids = kmeans1.cluster_centers_\n",
    "print(centroids)"
   ]
  },
  {
   "cell_type": "code",
   "execution_count": 36,
   "metadata": {},
   "outputs": [
    {
     "name": "stdout",
     "output_type": "stream",
     "text": [
      "[0 3 0 ... 3 3 2]\n"
     ]
    }
   ],
   "source": [
    "kmeans1=KMeans(n_clusters=4)\n",
    "labels=kmeans1.fit_predict(X5)\n",
    "print(labels)"
   ]
  },
  {
   "cell_type": "code",
   "execution_count": 42,
   "metadata": {},
   "outputs": [
    {
     "data": {
      "text/plain": [
       "39.3086016797357"
      ]
     },
     "execution_count": 42,
     "metadata": {},
     "output_type": "execute_result"
    }
   ],
   "source": [
    "df_captains[(df_captains['orderdate'] >= '2021-02-01') & (df_captains['orderdate'] <= '2021-02-28')]['captainid'].nunique()/df_captains['captainid'].nunique()*100"
   ]
  },
  {
   "cell_type": "code",
   "execution_count": 43,
   "metadata": {},
   "outputs": [
    {
     "data": {
      "text/plain": [
       "26.96334036540222"
      ]
     },
     "execution_count": 43,
     "metadata": {},
     "output_type": "execute_result"
    }
   ],
   "source": [
    "df_captains[(df_captains['orderdate'] >= '2021-03-01') & (df_captains['orderdate'] <= '2021-03-28')]['captainid'].nunique()/df_captains['captainid'].nunique()*100"
   ]
  },
  {
   "cell_type": "code",
   "execution_count": 44,
   "metadata": {},
   "outputs": [
    {
     "data": {
      "text/plain": [
       "20.566811288460773"
      ]
     },
     "execution_count": 44,
     "metadata": {},
     "output_type": "execute_result"
    }
   ],
   "source": [
    "df_captains[(df_captains['orderdate'] >= '2021-03-29') & (df_captains['orderdate'] <= '2021-04-25')]['captainid'].nunique()/df_captains['captainid'].nunique()*100"
   ]
  },
  {
   "cell_type": "code",
   "execution_count": 47,
   "metadata": {},
   "outputs": [
    {
     "name": "stdout",
     "output_type": "stream",
     "text": [
      "34.18485141878305\n"
     ]
    }
   ],
   "source": [
    "# week 1\n",
    "den = df_captains[(df_captains['registrationdate'] >= '2021-01-04') & (df_captains['registrationdate'] <= '2021-01-10')]['captainid'].nunique()\n",
    "num = df_captains[(df_captains['orderdate'] >= '2021-01-11') & (df_captains['orderdate'] <= '2021-01-17') & (df_captains['registrationdate'] >= '2021-01-04') & (df_captains['registrationdate'] <= '2021-01-10')]['captainid'].nunique()\n",
    "ret = num/den*100\n",
    "print(ret)"
   ]
  },
  {
   "cell_type": "code",
   "execution_count": 48,
   "metadata": {},
   "outputs": [
    {
     "name": "stdout",
     "output_type": "stream",
     "text": [
      "30.297162433901843\n"
     ]
    }
   ],
   "source": [
    "# week 2\n",
    "den = df_captains[(df_captains['registrationdate'] >= '2021-01-04') & (df_captains['registrationdate'] <= '2021-01-10')]['captainid'].nunique()\n",
    "num = df_captains[(df_captains['orderdate'] >= '2021-01-18') & (df_captains['orderdate'] <= '2021-01-24') & (df_captains['registrationdate'] >= '2021-01-04') & (df_captains['registrationdate'] <= '2021-01-10')]['captainid'].nunique()\n",
    "ret = num/den*100\n",
    "print(ret)"
   ]
  },
  {
   "cell_type": "code",
   "execution_count": 49,
   "metadata": {},
   "outputs": [
    {
     "name": "stdout",
     "output_type": "stream",
     "text": [
      "25.984955686303717\n"
     ]
    }
   ],
   "source": [
    "# week 3\n",
    "den = df_captains[(df_captains['registrationdate'] >= '2021-01-04') & (df_captains['registrationdate'] <= '2021-01-10')]['captainid'].nunique()\n",
    "num = df_captains[(df_captains['orderdate'] >= '2021-01-25') & (df_captains['orderdate'] <= '2021-01-31') & (df_captains['registrationdate'] >= '2021-01-04') & (df_captains['registrationdate'] <= '2021-01-10')]['captainid'].nunique()\n",
    "ret = num/den*100\n",
    "print(ret)"
   ]
  },
  {
   "cell_type": "code",
   "execution_count": null,
   "metadata": {},
   "outputs": [],
   "source": []
  }
 ],
 "metadata": {
  "kernelspec": {
   "display_name": "Python 3",
   "language": "python",
   "name": "python3"
  },
  "language_info": {
   "codemirror_mode": {
    "name": "ipython",
    "version": 3
   },
   "file_extension": ".py",
   "mimetype": "text/x-python",
   "name": "python",
   "nbconvert_exporter": "python",
   "pygments_lexer": "ipython3",
   "version": "3.8.4"
  }
 },
 "nbformat": 4,
 "nbformat_minor": 4
}
